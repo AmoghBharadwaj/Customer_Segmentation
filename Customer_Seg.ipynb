{
 "cells": [
  {
   "cell_type": "markdown",
   "metadata": {
    "colab_type": "text",
    "id": "0Tb9Eq1Mv7_3"
   },
   "source": [
    "# **Credit Card Customer Segmentation**"
   ]
  },
  {
   "cell_type": "markdown",
   "metadata": {
    "colab_type": "text",
    "id": "IjJHM5NGwDs-"
   },
   "source": [
    "# **Business Problem**"
   ]
  },
  {
   "cell_type": "markdown",
   "metadata": {
    "colab_type": "text",
    "id": "_ADS4Wn4wHX6"
   },
   "source": [
    "**Numbers and Statistics**\n",
    "\n",
    "\n",
    "*   The credit card industry is big business, and it is dominated by a handful of companies.\n",
    "\n",
    "* American consumers collectively are flirting with $1 trillion in credit card debt in mid-2017, according to the Federal Reserve consumer credit report.1  The top four issuers provide more than 57 percent of all the cards issued by 5,231 banks. The top 10 issuers issued nearly 90 percent.13\n",
    "\n",
    "*  There were some 14.5 billion U.S. general purpose credit card transactions in the first six months of 2015, accounting for more than $1.4 trillion in purchase volume.27 General purpose credit card spending has risen as a proportion of gross domestic \n",
    "product, rising from 10 percent of GDP in 2000 to 15 percent in 2014.2\n",
    "\n",
    "*  The total number of credit card transactions in the U.S. was 26.2 billion in 2012, up from 21 billion in 2009,3 according to the 2013 Federal Reserve Payments Study. \n",
    "\n",
    "*  At the end of 2014, there were approximately 3.4 billion smart chip cards in circulation around the globe, per EMV Connection.22 Today, U.S. card issuers are in the midst of upgrading approximately 1.2 billion credit and debit cards to smart chip cards.25  Approximately 400 million chip cards were issued in the U.S. by the end of 2015.22"
   ]
  },
  {
   "cell_type": "markdown",
   "metadata": {
    "colab_type": "text",
    "id": "HR8pltXqzfln"
   },
   "source": [
    "** The Problem **\n",
    "\n",
    "Anyone searching on a credit card comparison website is already in the market for a new credit card and is actively searching for the best deal. These are either:\n",
    "\n",
    "* Primary market consumers (first-time credit card applicants, often with no credit history)\n",
    "\n",
    "* People who are dissatisfied with their current credit card and have made their minds up to switch, or\n",
    "\n",
    "* People who have identified a strategic reason to add a second or third credit card to their arsenals.\n",
    "\n",
    "**Market segmentation**\n",
    "\n",
    "* With different motivations like those above, it's hard to know what consumers are thinking, but it does point to the importance of market segmentation. In other words, know which consumers are interested more in rewards and which are interested more in low prices - and give both segments what they want.\n",
    "\n",
    "* To a great degree, this is already happening. Marketers are sophisticated enough to know what consumers they want - high-spending ones, of course - and are targeting them with the juiciest offers.\n",
    "\n",
    "* The number one challenge faced by marketers is to understand who they are selling to. When you know your buyers’ personas you can tailor your targeting and offerings to increase their satisfaction and your revenue as a result. When you already have a pool of customers and enough data, it can be very useful to segment them."
   ]
  },
  {
   "cell_type": "markdown",
   "metadata": {
    "colab_type": "text",
    "id": "q2iKu3bc0MDq"
   },
   "source": [
    "# **Objective**"
   ]
  },
  {
   "cell_type": "markdown",
   "metadata": {
    "colab_type": "text",
    "id": "XwvS7JPf0Sql"
   },
   "source": [
    "The data for this analysis was taken from Kaggle\n",
    "Data Set : https://www.kaggle.com/arjunbhasin2013/ccdata\n",
    "\n",
    "\n",
    "\n",
    "*   Create customer segmentation to help the credit card companies for Targeted Marketing\n",
    "*   Come up with recommendations/ strategies to target different segments\n",
    "\n"
   ]
  },
  {
   "cell_type": "markdown",
   "metadata": {
    "colab_type": "text",
    "id": "v05ZhiTO0ysl"
   },
   "source": [
    "# **Obtaining the Data**"
   ]
  },
  {
   "cell_type": "code",
   "execution_count": 0,
   "metadata": {
    "colab": {},
    "colab_type": "code",
    "id": "on3asMij0SAp"
   },
   "outputs": [],
   "source": [
    "#Importing necessary packages to do data manipulation and Exploratory data analysis\n",
    "import pandas as pd\n",
    "import numpy as np\n",
    "import matplotlib.pyplot as plt\n",
    "import seaborn as sns"
   ]
  },
  {
   "cell_type": "code",
   "execution_count": 11,
   "metadata": {
    "colab": {
     "base_uri": "https://localhost:8080/",
     "height": 35
    },
    "colab_type": "code",
    "id": "jkpjSf8004r3",
    "outputId": "93db6e71-2e84-4feb-ebf9-2fd363447a5d"
   },
   "outputs": [
    {
     "name": "stdout",
     "output_type": "stream",
     "text": [
      "Drive already mounted at /content/drive/; to attempt to forcibly remount, call drive.mount(\"/content/drive/\", force_remount=True).\n"
     ]
    }
   ],
   "source": [
    "from google.colab import drive, files\n",
    "drive.mount('/content/drive/')\n",
    "path = \"/content/drive/My Drive/Customer_segmentation/CC_GENERAL.csv\""
   ]
  },
  {
   "cell_type": "code",
   "execution_count": 0,
   "metadata": {
    "colab": {},
    "colab_type": "code",
    "id": "r0u0YgFswGRT"
   },
   "outputs": [],
   "source": [
    "df = pd.read_csv(path)"
   ]
  },
  {
   "cell_type": "code",
   "execution_count": 13,
   "metadata": {
    "colab": {
     "base_uri": "https://localhost:8080/",
     "height": 360
    },
    "colab_type": "code",
    "id": "IEkWEzTLwDAP",
    "outputId": "21ac0442-23d7-4c4a-e5ce-9a490bf88c75"
   },
   "outputs": [
    {
     "data": {
      "text/html": [
       "<div>\n",
       "<style scoped>\n",
       "    .dataframe tbody tr th:only-of-type {\n",
       "        vertical-align: middle;\n",
       "    }\n",
       "\n",
       "    .dataframe tbody tr th {\n",
       "        vertical-align: top;\n",
       "    }\n",
       "\n",
       "    .dataframe thead th {\n",
       "        text-align: right;\n",
       "    }\n",
       "</style>\n",
       "<table border=\"1\" class=\"dataframe\">\n",
       "  <thead>\n",
       "    <tr style=\"text-align: right;\">\n",
       "      <th></th>\n",
       "      <th>CUST_ID</th>\n",
       "      <th>BALANCE</th>\n",
       "      <th>BALANCE_FREQUENCY</th>\n",
       "      <th>PURCHASES</th>\n",
       "      <th>ONEOFF_PURCHASES</th>\n",
       "      <th>INSTALLMENTS_PURCHASES</th>\n",
       "      <th>CASH_ADVANCE</th>\n",
       "      <th>PURCHASES_FREQUENCY</th>\n",
       "      <th>ONEOFF_PURCHASES_FREQUENCY</th>\n",
       "      <th>PURCHASES_INSTALLMENTS_FREQUENCY</th>\n",
       "      <th>CASH_ADVANCE_FREQUENCY</th>\n",
       "      <th>CASH_ADVANCE_TRX</th>\n",
       "      <th>PURCHASES_TRX</th>\n",
       "      <th>CREDIT_LIMIT</th>\n",
       "      <th>PAYMENTS</th>\n",
       "      <th>MINIMUM_PAYMENTS</th>\n",
       "      <th>PRC_FULL_PAYMENT</th>\n",
       "      <th>TENURE</th>\n",
       "    </tr>\n",
       "  </thead>\n",
       "  <tbody>\n",
       "    <tr>\n",
       "      <th>0</th>\n",
       "      <td>C10001</td>\n",
       "      <td>40.900749</td>\n",
       "      <td>0.818182</td>\n",
       "      <td>95.40</td>\n",
       "      <td>0.00</td>\n",
       "      <td>95.40</td>\n",
       "      <td>0.000000</td>\n",
       "      <td>0.166667</td>\n",
       "      <td>0.000000</td>\n",
       "      <td>0.083333</td>\n",
       "      <td>0.000000</td>\n",
       "      <td>0</td>\n",
       "      <td>2</td>\n",
       "      <td>1000.0</td>\n",
       "      <td>201.802084</td>\n",
       "      <td>139.509787</td>\n",
       "      <td>0.000000</td>\n",
       "      <td>12</td>\n",
       "    </tr>\n",
       "    <tr>\n",
       "      <th>1</th>\n",
       "      <td>C10002</td>\n",
       "      <td>3202.467416</td>\n",
       "      <td>0.909091</td>\n",
       "      <td>0.00</td>\n",
       "      <td>0.00</td>\n",
       "      <td>0.00</td>\n",
       "      <td>6442.945483</td>\n",
       "      <td>0.000000</td>\n",
       "      <td>0.000000</td>\n",
       "      <td>0.000000</td>\n",
       "      <td>0.250000</td>\n",
       "      <td>4</td>\n",
       "      <td>0</td>\n",
       "      <td>7000.0</td>\n",
       "      <td>4103.032597</td>\n",
       "      <td>1072.340217</td>\n",
       "      <td>0.222222</td>\n",
       "      <td>12</td>\n",
       "    </tr>\n",
       "    <tr>\n",
       "      <th>2</th>\n",
       "      <td>C10003</td>\n",
       "      <td>2495.148862</td>\n",
       "      <td>1.000000</td>\n",
       "      <td>773.17</td>\n",
       "      <td>773.17</td>\n",
       "      <td>0.00</td>\n",
       "      <td>0.000000</td>\n",
       "      <td>1.000000</td>\n",
       "      <td>1.000000</td>\n",
       "      <td>0.000000</td>\n",
       "      <td>0.000000</td>\n",
       "      <td>0</td>\n",
       "      <td>12</td>\n",
       "      <td>7500.0</td>\n",
       "      <td>622.066742</td>\n",
       "      <td>627.284787</td>\n",
       "      <td>0.000000</td>\n",
       "      <td>12</td>\n",
       "    </tr>\n",
       "    <tr>\n",
       "      <th>3</th>\n",
       "      <td>C10004</td>\n",
       "      <td>1666.670542</td>\n",
       "      <td>0.636364</td>\n",
       "      <td>1499.00</td>\n",
       "      <td>1499.00</td>\n",
       "      <td>0.00</td>\n",
       "      <td>205.788017</td>\n",
       "      <td>0.083333</td>\n",
       "      <td>0.083333</td>\n",
       "      <td>0.000000</td>\n",
       "      <td>0.083333</td>\n",
       "      <td>1</td>\n",
       "      <td>1</td>\n",
       "      <td>7500.0</td>\n",
       "      <td>0.000000</td>\n",
       "      <td>NaN</td>\n",
       "      <td>0.000000</td>\n",
       "      <td>12</td>\n",
       "    </tr>\n",
       "    <tr>\n",
       "      <th>4</th>\n",
       "      <td>C10005</td>\n",
       "      <td>817.714335</td>\n",
       "      <td>1.000000</td>\n",
       "      <td>16.00</td>\n",
       "      <td>16.00</td>\n",
       "      <td>0.00</td>\n",
       "      <td>0.000000</td>\n",
       "      <td>0.083333</td>\n",
       "      <td>0.083333</td>\n",
       "      <td>0.000000</td>\n",
       "      <td>0.000000</td>\n",
       "      <td>0</td>\n",
       "      <td>1</td>\n",
       "      <td>1200.0</td>\n",
       "      <td>678.334763</td>\n",
       "      <td>244.791237</td>\n",
       "      <td>0.000000</td>\n",
       "      <td>12</td>\n",
       "    </tr>\n",
       "    <tr>\n",
       "      <th>5</th>\n",
       "      <td>C10006</td>\n",
       "      <td>1809.828751</td>\n",
       "      <td>1.000000</td>\n",
       "      <td>1333.28</td>\n",
       "      <td>0.00</td>\n",
       "      <td>1333.28</td>\n",
       "      <td>0.000000</td>\n",
       "      <td>0.666667</td>\n",
       "      <td>0.000000</td>\n",
       "      <td>0.583333</td>\n",
       "      <td>0.000000</td>\n",
       "      <td>0</td>\n",
       "      <td>8</td>\n",
       "      <td>1800.0</td>\n",
       "      <td>1400.057770</td>\n",
       "      <td>2407.246035</td>\n",
       "      <td>0.000000</td>\n",
       "      <td>12</td>\n",
       "    </tr>\n",
       "    <tr>\n",
       "      <th>6</th>\n",
       "      <td>C10007</td>\n",
       "      <td>627.260806</td>\n",
       "      <td>1.000000</td>\n",
       "      <td>7091.01</td>\n",
       "      <td>6402.63</td>\n",
       "      <td>688.38</td>\n",
       "      <td>0.000000</td>\n",
       "      <td>1.000000</td>\n",
       "      <td>1.000000</td>\n",
       "      <td>1.000000</td>\n",
       "      <td>0.000000</td>\n",
       "      <td>0</td>\n",
       "      <td>64</td>\n",
       "      <td>13500.0</td>\n",
       "      <td>6354.314328</td>\n",
       "      <td>198.065894</td>\n",
       "      <td>1.000000</td>\n",
       "      <td>12</td>\n",
       "    </tr>\n",
       "    <tr>\n",
       "      <th>7</th>\n",
       "      <td>C10008</td>\n",
       "      <td>1823.652743</td>\n",
       "      <td>1.000000</td>\n",
       "      <td>436.20</td>\n",
       "      <td>0.00</td>\n",
       "      <td>436.20</td>\n",
       "      <td>0.000000</td>\n",
       "      <td>1.000000</td>\n",
       "      <td>0.000000</td>\n",
       "      <td>1.000000</td>\n",
       "      <td>0.000000</td>\n",
       "      <td>0</td>\n",
       "      <td>12</td>\n",
       "      <td>2300.0</td>\n",
       "      <td>679.065082</td>\n",
       "      <td>532.033990</td>\n",
       "      <td>0.000000</td>\n",
       "      <td>12</td>\n",
       "    </tr>\n",
       "    <tr>\n",
       "      <th>8</th>\n",
       "      <td>C10009</td>\n",
       "      <td>1014.926473</td>\n",
       "      <td>1.000000</td>\n",
       "      <td>861.49</td>\n",
       "      <td>661.49</td>\n",
       "      <td>200.00</td>\n",
       "      <td>0.000000</td>\n",
       "      <td>0.333333</td>\n",
       "      <td>0.083333</td>\n",
       "      <td>0.250000</td>\n",
       "      <td>0.000000</td>\n",
       "      <td>0</td>\n",
       "      <td>5</td>\n",
       "      <td>7000.0</td>\n",
       "      <td>688.278568</td>\n",
       "      <td>311.963409</td>\n",
       "      <td>0.000000</td>\n",
       "      <td>12</td>\n",
       "    </tr>\n",
       "    <tr>\n",
       "      <th>9</th>\n",
       "      <td>C10010</td>\n",
       "      <td>152.225975</td>\n",
       "      <td>0.545455</td>\n",
       "      <td>1281.60</td>\n",
       "      <td>1281.60</td>\n",
       "      <td>0.00</td>\n",
       "      <td>0.000000</td>\n",
       "      <td>0.166667</td>\n",
       "      <td>0.166667</td>\n",
       "      <td>0.000000</td>\n",
       "      <td>0.000000</td>\n",
       "      <td>0</td>\n",
       "      <td>3</td>\n",
       "      <td>11000.0</td>\n",
       "      <td>1164.770591</td>\n",
       "      <td>100.302262</td>\n",
       "      <td>0.000000</td>\n",
       "      <td>12</td>\n",
       "    </tr>\n",
       "  </tbody>\n",
       "</table>\n",
       "</div>"
      ],
      "text/plain": [
       "  CUST_ID      BALANCE  BALANCE_FREQUENCY  PURCHASES  ONEOFF_PURCHASES  \\\n",
       "0  C10001    40.900749           0.818182      95.40              0.00   \n",
       "1  C10002  3202.467416           0.909091       0.00              0.00   \n",
       "2  C10003  2495.148862           1.000000     773.17            773.17   \n",
       "3  C10004  1666.670542           0.636364    1499.00           1499.00   \n",
       "4  C10005   817.714335           1.000000      16.00             16.00   \n",
       "5  C10006  1809.828751           1.000000    1333.28              0.00   \n",
       "6  C10007   627.260806           1.000000    7091.01           6402.63   \n",
       "7  C10008  1823.652743           1.000000     436.20              0.00   \n",
       "8  C10009  1014.926473           1.000000     861.49            661.49   \n",
       "9  C10010   152.225975           0.545455    1281.60           1281.60   \n",
       "\n",
       "   INSTALLMENTS_PURCHASES  CASH_ADVANCE  PURCHASES_FREQUENCY  \\\n",
       "0                   95.40      0.000000             0.166667   \n",
       "1                    0.00   6442.945483             0.000000   \n",
       "2                    0.00      0.000000             1.000000   \n",
       "3                    0.00    205.788017             0.083333   \n",
       "4                    0.00      0.000000             0.083333   \n",
       "5                 1333.28      0.000000             0.666667   \n",
       "6                  688.38      0.000000             1.000000   \n",
       "7                  436.20      0.000000             1.000000   \n",
       "8                  200.00      0.000000             0.333333   \n",
       "9                    0.00      0.000000             0.166667   \n",
       "\n",
       "   ONEOFF_PURCHASES_FREQUENCY  PURCHASES_INSTALLMENTS_FREQUENCY  \\\n",
       "0                    0.000000                          0.083333   \n",
       "1                    0.000000                          0.000000   \n",
       "2                    1.000000                          0.000000   \n",
       "3                    0.083333                          0.000000   \n",
       "4                    0.083333                          0.000000   \n",
       "5                    0.000000                          0.583333   \n",
       "6                    1.000000                          1.000000   \n",
       "7                    0.000000                          1.000000   \n",
       "8                    0.083333                          0.250000   \n",
       "9                    0.166667                          0.000000   \n",
       "\n",
       "   CASH_ADVANCE_FREQUENCY  CASH_ADVANCE_TRX  PURCHASES_TRX  CREDIT_LIMIT  \\\n",
       "0                0.000000                 0              2        1000.0   \n",
       "1                0.250000                 4              0        7000.0   \n",
       "2                0.000000                 0             12        7500.0   \n",
       "3                0.083333                 1              1        7500.0   \n",
       "4                0.000000                 0              1        1200.0   \n",
       "5                0.000000                 0              8        1800.0   \n",
       "6                0.000000                 0             64       13500.0   \n",
       "7                0.000000                 0             12        2300.0   \n",
       "8                0.000000                 0              5        7000.0   \n",
       "9                0.000000                 0              3       11000.0   \n",
       "\n",
       "      PAYMENTS  MINIMUM_PAYMENTS  PRC_FULL_PAYMENT  TENURE  \n",
       "0   201.802084        139.509787          0.000000      12  \n",
       "1  4103.032597       1072.340217          0.222222      12  \n",
       "2   622.066742        627.284787          0.000000      12  \n",
       "3     0.000000               NaN          0.000000      12  \n",
       "4   678.334763        244.791237          0.000000      12  \n",
       "5  1400.057770       2407.246035          0.000000      12  \n",
       "6  6354.314328        198.065894          1.000000      12  \n",
       "7   679.065082        532.033990          0.000000      12  \n",
       "8   688.278568        311.963409          0.000000      12  \n",
       "9  1164.770591        100.302262          0.000000      12  "
      ]
     },
     "execution_count": 13,
     "metadata": {
      "tags": []
     },
     "output_type": "execute_result"
    }
   ],
   "source": [
    "df.head(10)"
   ]
  },
  {
   "cell_type": "code",
   "execution_count": 14,
   "metadata": {
    "colab": {
     "base_uri": "https://localhost:8080/",
     "height": 426
    },
    "colab_type": "code",
    "id": "grPBhWQnwCKO",
    "outputId": "0b86b0c4-1794-463a-b266-68e865c92078"
   },
   "outputs": [
    {
     "name": "stdout",
     "output_type": "stream",
     "text": [
      "<class 'pandas.core.frame.DataFrame'>\n",
      "RangeIndex: 8950 entries, 0 to 8949\n",
      "Data columns (total 18 columns):\n",
      "CUST_ID                             8950 non-null object\n",
      "BALANCE                             8950 non-null float64\n",
      "BALANCE_FREQUENCY                   8950 non-null float64\n",
      "PURCHASES                           8950 non-null float64\n",
      "ONEOFF_PURCHASES                    8950 non-null float64\n",
      "INSTALLMENTS_PURCHASES              8950 non-null float64\n",
      "CASH_ADVANCE                        8950 non-null float64\n",
      "PURCHASES_FREQUENCY                 8950 non-null float64\n",
      "ONEOFF_PURCHASES_FREQUENCY          8950 non-null float64\n",
      "PURCHASES_INSTALLMENTS_FREQUENCY    8950 non-null float64\n",
      "CASH_ADVANCE_FREQUENCY              8950 non-null float64\n",
      "CASH_ADVANCE_TRX                    8950 non-null int64\n",
      "PURCHASES_TRX                       8950 non-null int64\n",
      "CREDIT_LIMIT                        8949 non-null float64\n",
      "PAYMENTS                            8950 non-null float64\n",
      "MINIMUM_PAYMENTS                    8637 non-null float64\n",
      "PRC_FULL_PAYMENT                    8950 non-null float64\n",
      "TENURE                              8950 non-null int64\n",
      "dtypes: float64(14), int64(3), object(1)\n",
      "memory usage: 1.2+ MB\n"
     ]
    }
   ],
   "source": [
    "#Let us get more info on the columns and the number of entries\n",
    "df.info()"
   ]
  },
  {
   "cell_type": "markdown",
   "metadata": {
    "colab_type": "text",
    "id": "IV2zTlxc37eh"
   },
   "source": [
    "We see that there are 8950 entries, and 18 behavioral variables  in total, in which all are numerical and cust_id indicating the customer id who has owns the card"
   ]
  },
  {
   "cell_type": "code",
   "execution_count": 15,
   "metadata": {
    "colab": {
     "base_uri": "https://localhost:8080/",
     "height": 302
    },
    "colab_type": "code",
    "id": "846KCKcOvXFe",
    "outputId": "f66e2756-25d4-465e-fdf2-dae9a61ee77e"
   },
   "outputs": [
    {
     "data": {
      "text/html": [
       "<div>\n",
       "<style scoped>\n",
       "    .dataframe tbody tr th:only-of-type {\n",
       "        vertical-align: middle;\n",
       "    }\n",
       "\n",
       "    .dataframe tbody tr th {\n",
       "        vertical-align: top;\n",
       "    }\n",
       "\n",
       "    .dataframe thead th {\n",
       "        text-align: right;\n",
       "    }\n",
       "</style>\n",
       "<table border=\"1\" class=\"dataframe\">\n",
       "  <thead>\n",
       "    <tr style=\"text-align: right;\">\n",
       "      <th></th>\n",
       "      <th>BALANCE</th>\n",
       "      <th>BALANCE_FREQUENCY</th>\n",
       "      <th>PURCHASES</th>\n",
       "      <th>ONEOFF_PURCHASES</th>\n",
       "      <th>INSTALLMENTS_PURCHASES</th>\n",
       "      <th>CASH_ADVANCE</th>\n",
       "      <th>PURCHASES_FREQUENCY</th>\n",
       "      <th>ONEOFF_PURCHASES_FREQUENCY</th>\n",
       "      <th>PURCHASES_INSTALLMENTS_FREQUENCY</th>\n",
       "      <th>CASH_ADVANCE_FREQUENCY</th>\n",
       "      <th>CASH_ADVANCE_TRX</th>\n",
       "      <th>PURCHASES_TRX</th>\n",
       "      <th>CREDIT_LIMIT</th>\n",
       "      <th>PAYMENTS</th>\n",
       "      <th>MINIMUM_PAYMENTS</th>\n",
       "      <th>PRC_FULL_PAYMENT</th>\n",
       "      <th>TENURE</th>\n",
       "    </tr>\n",
       "  </thead>\n",
       "  <tbody>\n",
       "    <tr>\n",
       "      <th>count</th>\n",
       "      <td>8950.000000</td>\n",
       "      <td>8950.000000</td>\n",
       "      <td>8950.000000</td>\n",
       "      <td>8950.000000</td>\n",
       "      <td>8950.000000</td>\n",
       "      <td>8950.000000</td>\n",
       "      <td>8950.000000</td>\n",
       "      <td>8950.000000</td>\n",
       "      <td>8950.000000</td>\n",
       "      <td>8950.000000</td>\n",
       "      <td>8950.000000</td>\n",
       "      <td>8950.000000</td>\n",
       "      <td>8949.000000</td>\n",
       "      <td>8950.000000</td>\n",
       "      <td>8637.000000</td>\n",
       "      <td>8950.000000</td>\n",
       "      <td>8950.000000</td>\n",
       "    </tr>\n",
       "    <tr>\n",
       "      <th>mean</th>\n",
       "      <td>1564.474828</td>\n",
       "      <td>0.877271</td>\n",
       "      <td>1003.204834</td>\n",
       "      <td>592.437371</td>\n",
       "      <td>411.067645</td>\n",
       "      <td>978.871112</td>\n",
       "      <td>0.490351</td>\n",
       "      <td>0.202458</td>\n",
       "      <td>0.364437</td>\n",
       "      <td>0.135144</td>\n",
       "      <td>3.248827</td>\n",
       "      <td>14.709832</td>\n",
       "      <td>4494.449450</td>\n",
       "      <td>1733.143852</td>\n",
       "      <td>864.206542</td>\n",
       "      <td>0.153715</td>\n",
       "      <td>11.517318</td>\n",
       "    </tr>\n",
       "    <tr>\n",
       "      <th>std</th>\n",
       "      <td>2081.531879</td>\n",
       "      <td>0.236904</td>\n",
       "      <td>2136.634782</td>\n",
       "      <td>1659.887917</td>\n",
       "      <td>904.338115</td>\n",
       "      <td>2097.163877</td>\n",
       "      <td>0.401371</td>\n",
       "      <td>0.298336</td>\n",
       "      <td>0.397448</td>\n",
       "      <td>0.200121</td>\n",
       "      <td>6.824647</td>\n",
       "      <td>24.857649</td>\n",
       "      <td>3638.815725</td>\n",
       "      <td>2895.063757</td>\n",
       "      <td>2372.446607</td>\n",
       "      <td>0.292499</td>\n",
       "      <td>1.338331</td>\n",
       "    </tr>\n",
       "    <tr>\n",
       "      <th>min</th>\n",
       "      <td>0.000000</td>\n",
       "      <td>0.000000</td>\n",
       "      <td>0.000000</td>\n",
       "      <td>0.000000</td>\n",
       "      <td>0.000000</td>\n",
       "      <td>0.000000</td>\n",
       "      <td>0.000000</td>\n",
       "      <td>0.000000</td>\n",
       "      <td>0.000000</td>\n",
       "      <td>0.000000</td>\n",
       "      <td>0.000000</td>\n",
       "      <td>0.000000</td>\n",
       "      <td>50.000000</td>\n",
       "      <td>0.000000</td>\n",
       "      <td>0.019163</td>\n",
       "      <td>0.000000</td>\n",
       "      <td>6.000000</td>\n",
       "    </tr>\n",
       "    <tr>\n",
       "      <th>25%</th>\n",
       "      <td>128.281915</td>\n",
       "      <td>0.888889</td>\n",
       "      <td>39.635000</td>\n",
       "      <td>0.000000</td>\n",
       "      <td>0.000000</td>\n",
       "      <td>0.000000</td>\n",
       "      <td>0.083333</td>\n",
       "      <td>0.000000</td>\n",
       "      <td>0.000000</td>\n",
       "      <td>0.000000</td>\n",
       "      <td>0.000000</td>\n",
       "      <td>1.000000</td>\n",
       "      <td>1600.000000</td>\n",
       "      <td>383.276166</td>\n",
       "      <td>169.123707</td>\n",
       "      <td>0.000000</td>\n",
       "      <td>12.000000</td>\n",
       "    </tr>\n",
       "    <tr>\n",
       "      <th>50%</th>\n",
       "      <td>873.385231</td>\n",
       "      <td>1.000000</td>\n",
       "      <td>361.280000</td>\n",
       "      <td>38.000000</td>\n",
       "      <td>89.000000</td>\n",
       "      <td>0.000000</td>\n",
       "      <td>0.500000</td>\n",
       "      <td>0.083333</td>\n",
       "      <td>0.166667</td>\n",
       "      <td>0.000000</td>\n",
       "      <td>0.000000</td>\n",
       "      <td>7.000000</td>\n",
       "      <td>3000.000000</td>\n",
       "      <td>856.901546</td>\n",
       "      <td>312.343947</td>\n",
       "      <td>0.000000</td>\n",
       "      <td>12.000000</td>\n",
       "    </tr>\n",
       "    <tr>\n",
       "      <th>75%</th>\n",
       "      <td>2054.140036</td>\n",
       "      <td>1.000000</td>\n",
       "      <td>1110.130000</td>\n",
       "      <td>577.405000</td>\n",
       "      <td>468.637500</td>\n",
       "      <td>1113.821139</td>\n",
       "      <td>0.916667</td>\n",
       "      <td>0.300000</td>\n",
       "      <td>0.750000</td>\n",
       "      <td>0.222222</td>\n",
       "      <td>4.000000</td>\n",
       "      <td>17.000000</td>\n",
       "      <td>6500.000000</td>\n",
       "      <td>1901.134317</td>\n",
       "      <td>825.485459</td>\n",
       "      <td>0.142857</td>\n",
       "      <td>12.000000</td>\n",
       "    </tr>\n",
       "    <tr>\n",
       "      <th>max</th>\n",
       "      <td>19043.138560</td>\n",
       "      <td>1.000000</td>\n",
       "      <td>49039.570000</td>\n",
       "      <td>40761.250000</td>\n",
       "      <td>22500.000000</td>\n",
       "      <td>47137.211760</td>\n",
       "      <td>1.000000</td>\n",
       "      <td>1.000000</td>\n",
       "      <td>1.000000</td>\n",
       "      <td>1.500000</td>\n",
       "      <td>123.000000</td>\n",
       "      <td>358.000000</td>\n",
       "      <td>30000.000000</td>\n",
       "      <td>50721.483360</td>\n",
       "      <td>76406.207520</td>\n",
       "      <td>1.000000</td>\n",
       "      <td>12.000000</td>\n",
       "    </tr>\n",
       "  </tbody>\n",
       "</table>\n",
       "</div>"
      ],
      "text/plain": [
       "            BALANCE  BALANCE_FREQUENCY     PURCHASES  ONEOFF_PURCHASES  \\\n",
       "count   8950.000000        8950.000000   8950.000000       8950.000000   \n",
       "mean    1564.474828           0.877271   1003.204834        592.437371   \n",
       "std     2081.531879           0.236904   2136.634782       1659.887917   \n",
       "min        0.000000           0.000000      0.000000          0.000000   \n",
       "25%      128.281915           0.888889     39.635000          0.000000   \n",
       "50%      873.385231           1.000000    361.280000         38.000000   \n",
       "75%     2054.140036           1.000000   1110.130000        577.405000   \n",
       "max    19043.138560           1.000000  49039.570000      40761.250000   \n",
       "\n",
       "       INSTALLMENTS_PURCHASES  CASH_ADVANCE  PURCHASES_FREQUENCY  \\\n",
       "count             8950.000000   8950.000000          8950.000000   \n",
       "mean               411.067645    978.871112             0.490351   \n",
       "std                904.338115   2097.163877             0.401371   \n",
       "min                  0.000000      0.000000             0.000000   \n",
       "25%                  0.000000      0.000000             0.083333   \n",
       "50%                 89.000000      0.000000             0.500000   \n",
       "75%                468.637500   1113.821139             0.916667   \n",
       "max              22500.000000  47137.211760             1.000000   \n",
       "\n",
       "       ONEOFF_PURCHASES_FREQUENCY  PURCHASES_INSTALLMENTS_FREQUENCY  \\\n",
       "count                 8950.000000                       8950.000000   \n",
       "mean                     0.202458                          0.364437   \n",
       "std                      0.298336                          0.397448   \n",
       "min                      0.000000                          0.000000   \n",
       "25%                      0.000000                          0.000000   \n",
       "50%                      0.083333                          0.166667   \n",
       "75%                      0.300000                          0.750000   \n",
       "max                      1.000000                          1.000000   \n",
       "\n",
       "       CASH_ADVANCE_FREQUENCY  CASH_ADVANCE_TRX  PURCHASES_TRX  CREDIT_LIMIT  \\\n",
       "count             8950.000000       8950.000000    8950.000000   8949.000000   \n",
       "mean                 0.135144          3.248827      14.709832   4494.449450   \n",
       "std                  0.200121          6.824647      24.857649   3638.815725   \n",
       "min                  0.000000          0.000000       0.000000     50.000000   \n",
       "25%                  0.000000          0.000000       1.000000   1600.000000   \n",
       "50%                  0.000000          0.000000       7.000000   3000.000000   \n",
       "75%                  0.222222          4.000000      17.000000   6500.000000   \n",
       "max                  1.500000        123.000000     358.000000  30000.000000   \n",
       "\n",
       "           PAYMENTS  MINIMUM_PAYMENTS  PRC_FULL_PAYMENT       TENURE  \n",
       "count   8950.000000       8637.000000       8950.000000  8950.000000  \n",
       "mean    1733.143852        864.206542          0.153715    11.517318  \n",
       "std     2895.063757       2372.446607          0.292499     1.338331  \n",
       "min        0.000000          0.019163          0.000000     6.000000  \n",
       "25%      383.276166        169.123707          0.000000    12.000000  \n",
       "50%      856.901546        312.343947          0.000000    12.000000  \n",
       "75%     1901.134317        825.485459          0.142857    12.000000  \n",
       "max    50721.483360      76406.207520          1.000000    12.000000  "
      ]
     },
     "execution_count": 15,
     "metadata": {
      "tags": []
     },
     "output_type": "execute_result"
    }
   ],
   "source": [
    "df.describe()"
   ]
  },
  {
   "cell_type": "markdown",
   "metadata": {
    "colab_type": "text",
    "id": "v-LUI67I36Gs"
   },
   "source": [
    "**Some Statistics**\n",
    "\n",
    "*   We see that the purchases range from 0 dollars to 49000 dollars with mean of 1003 dollars\n",
    "*   The credit limit ranges from as 50 dollars to a max of 30000 dollars,with a mean of 4494 dollars\n",
    "\n",
    "\n",
    "*   The cash advance is the cash loan taken from your credit card account using an ATM, bank withdrawal or check from your card issuer. It has a mean of 978$ and max of 47137 dollars\n",
    "*   the installment purchase amount ranges from 0 dollars to a max of 22500 dollars with a mean of about 411 dollars\n",
    "*  the installment purchase frequency ranges from 0% to as high as 100% with a mean of about 49%. This implies that on an average users buy 50% of the products on installments and there are users that buy the items on installments 100% of the time\n",
    "*   The balance ranges from 0 dollars to 19000 dollars with a mean of 1564 dollars.  Balance is the amount of money owed to the credit card company. Users owe 0 dollars to 19000 dollars to the credit card company with the average amount owed being 1564 dollars\n",
    "\n",
    "\n"
   ]
  },
  {
   "cell_type": "code",
   "execution_count": 16,
   "metadata": {
    "colab": {
     "base_uri": "https://localhost:8080/",
     "height": 355
    },
    "colab_type": "code",
    "id": "TiSeXFKr3o-W",
    "outputId": "b74815f2-d61c-417c-a9c4-5090e2d78c5b"
   },
   "outputs": [
    {
     "data": {
      "text/plain": [
       "CUST_ID                               0\n",
       "BALANCE                               0\n",
       "BALANCE_FREQUENCY                     0\n",
       "PURCHASES                             0\n",
       "ONEOFF_PURCHASES                      0\n",
       "INSTALLMENTS_PURCHASES                0\n",
       "CASH_ADVANCE                          0\n",
       "PURCHASES_FREQUENCY                   0\n",
       "ONEOFF_PURCHASES_FREQUENCY            0\n",
       "PURCHASES_INSTALLMENTS_FREQUENCY      0\n",
       "CASH_ADVANCE_FREQUENCY                0\n",
       "CASH_ADVANCE_TRX                      0\n",
       "PURCHASES_TRX                         0\n",
       "CREDIT_LIMIT                          1\n",
       "PAYMENTS                              0\n",
       "MINIMUM_PAYMENTS                    313\n",
       "PRC_FULL_PAYMENT                      0\n",
       "TENURE                                0\n",
       "dtype: int64"
      ]
     },
     "execution_count": 16,
     "metadata": {
      "tags": []
     },
     "output_type": "execute_result"
    }
   ],
   "source": [
    "df.isnull().sum()"
   ]
  },
  {
   "cell_type": "markdown",
   "metadata": {
    "colab_type": "text",
    "id": "r6c0vMa2_TbE"
   },
   "source": [
    "We see that the credit limit has 1 missing value and the minimum payments has about 313 missing values. Let us fill the missing data with the mean of the respective colums so that the distribution of the data does not change\n"
   ]
  },
  {
   "cell_type": "code",
   "execution_count": 0,
   "metadata": {
    "colab": {},
    "colab_type": "code",
    "id": "h5VRAdDj_QOU"
   },
   "outputs": [],
   "source": [
    "df['CREDIT_LIMIT'].fillna(df['CREDIT_LIMIT'].mean(),inplace= True)\n",
    "df['MINIMUM_PAYMENTS'].fillna(df['MINIMUM_PAYMENTS'].mean(),inplace= True)"
   ]
  },
  {
   "cell_type": "code",
   "execution_count": 18,
   "metadata": {
    "colab": {
     "base_uri": "https://localhost:8080/",
     "height": 355
    },
    "colab_type": "code",
    "id": "OfqREqPZALQw",
    "outputId": "5bd9109b-b04b-42e7-d676-dbd202844d6c"
   },
   "outputs": [
    {
     "data": {
      "text/plain": [
       "CUST_ID                             0\n",
       "BALANCE                             0\n",
       "BALANCE_FREQUENCY                   0\n",
       "PURCHASES                           0\n",
       "ONEOFF_PURCHASES                    0\n",
       "INSTALLMENTS_PURCHASES              0\n",
       "CASH_ADVANCE                        0\n",
       "PURCHASES_FREQUENCY                 0\n",
       "ONEOFF_PURCHASES_FREQUENCY          0\n",
       "PURCHASES_INSTALLMENTS_FREQUENCY    0\n",
       "CASH_ADVANCE_FREQUENCY              0\n",
       "CASH_ADVANCE_TRX                    0\n",
       "PURCHASES_TRX                       0\n",
       "CREDIT_LIMIT                        0\n",
       "PAYMENTS                            0\n",
       "MINIMUM_PAYMENTS                    0\n",
       "PRC_FULL_PAYMENT                    0\n",
       "TENURE                              0\n",
       "dtype: int64"
      ]
     },
     "execution_count": 18,
     "metadata": {
      "tags": []
     },
     "output_type": "execute_result"
    }
   ],
   "source": [
    "df.isnull().sum()"
   ]
  },
  {
   "cell_type": "markdown",
   "metadata": {
    "colab_type": "text",
    "id": "zic5NJrTAQgw"
   },
   "source": [
    "**Now that there are no missing values, let us explore the data a bit**"
   ]
  },
  {
   "cell_type": "markdown",
   "metadata": {
    "colab_type": "text",
    "id": "Q4xqOlPVVHrI"
   },
   "source": [
    "**Let us try to select three samples out of the data set and try to analyse how they belong to different segments**"
   ]
  },
  {
   "cell_type": "code",
   "execution_count": 19,
   "metadata": {
    "colab": {
     "base_uri": "https://localhost:8080/",
     "height": 173
    },
    "colab_type": "code",
    "id": "s7dU4cXoAVBi",
    "outputId": "af4b4216-27fa-4dca-a9d3-62e9f707d3eb"
   },
   "outputs": [
    {
     "name": "stdout",
     "output_type": "stream",
     "text": [
      "Chosen samples of credit card customers dataset:\n"
     ]
    },
    {
     "data": {
      "text/html": [
       "<div>\n",
       "<style scoped>\n",
       "    .dataframe tbody tr th:only-of-type {\n",
       "        vertical-align: middle;\n",
       "    }\n",
       "\n",
       "    .dataframe tbody tr th {\n",
       "        vertical-align: top;\n",
       "    }\n",
       "\n",
       "    .dataframe thead th {\n",
       "        text-align: right;\n",
       "    }\n",
       "</style>\n",
       "<table border=\"1\" class=\"dataframe\">\n",
       "  <thead>\n",
       "    <tr style=\"text-align: right;\">\n",
       "      <th></th>\n",
       "      <th>CUST_ID</th>\n",
       "      <th>BALANCE</th>\n",
       "      <th>BALANCE_FREQUENCY</th>\n",
       "      <th>PURCHASES</th>\n",
       "      <th>ONEOFF_PURCHASES</th>\n",
       "      <th>INSTALLMENTS_PURCHASES</th>\n",
       "      <th>CASH_ADVANCE</th>\n",
       "      <th>PURCHASES_FREQUENCY</th>\n",
       "      <th>ONEOFF_PURCHASES_FREQUENCY</th>\n",
       "      <th>PURCHASES_INSTALLMENTS_FREQUENCY</th>\n",
       "      <th>CASH_ADVANCE_FREQUENCY</th>\n",
       "      <th>CASH_ADVANCE_TRX</th>\n",
       "      <th>PURCHASES_TRX</th>\n",
       "      <th>CREDIT_LIMIT</th>\n",
       "      <th>PAYMENTS</th>\n",
       "      <th>MINIMUM_PAYMENTS</th>\n",
       "      <th>PRC_FULL_PAYMENT</th>\n",
       "      <th>TENURE</th>\n",
       "    </tr>\n",
       "  </thead>\n",
       "  <tbody>\n",
       "    <tr>\n",
       "      <th>0</th>\n",
       "      <td>C10006</td>\n",
       "      <td>1809.828751</td>\n",
       "      <td>1.0</td>\n",
       "      <td>1333.28</td>\n",
       "      <td>0.00</td>\n",
       "      <td>1333.28</td>\n",
       "      <td>0.000000</td>\n",
       "      <td>0.666667</td>\n",
       "      <td>0.000000</td>\n",
       "      <td>0.583333</td>\n",
       "      <td>0.000000</td>\n",
       "      <td>0</td>\n",
       "      <td>8</td>\n",
       "      <td>1800.0</td>\n",
       "      <td>1400.057770</td>\n",
       "      <td>2407.246035</td>\n",
       "      <td>0.0</td>\n",
       "      <td>12</td>\n",
       "    </tr>\n",
       "    <tr>\n",
       "      <th>1</th>\n",
       "      <td>C10079</td>\n",
       "      <td>5860.433624</td>\n",
       "      <td>1.0</td>\n",
       "      <td>561.87</td>\n",
       "      <td>249.50</td>\n",
       "      <td>312.37</td>\n",
       "      <td>0.000000</td>\n",
       "      <td>0.833333</td>\n",
       "      <td>0.166667</td>\n",
       "      <td>0.750000</td>\n",
       "      <td>0.000000</td>\n",
       "      <td>0</td>\n",
       "      <td>14</td>\n",
       "      <td>6000.0</td>\n",
       "      <td>1990.044998</td>\n",
       "      <td>2161.428274</td>\n",
       "      <td>0.0</td>\n",
       "      <td>12</td>\n",
       "    </tr>\n",
       "    <tr>\n",
       "      <th>2</th>\n",
       "      <td>C10353</td>\n",
       "      <td>1254.669100</td>\n",
       "      <td>1.0</td>\n",
       "      <td>361.73</td>\n",
       "      <td>361.73</td>\n",
       "      <td>0.00</td>\n",
       "      <td>198.686744</td>\n",
       "      <td>0.166667</td>\n",
       "      <td>0.166667</td>\n",
       "      <td>0.000000</td>\n",
       "      <td>0.083333</td>\n",
       "      <td>1</td>\n",
       "      <td>2</td>\n",
       "      <td>1500.0</td>\n",
       "      <td>535.606816</td>\n",
       "      <td>432.688080</td>\n",
       "      <td>0.0</td>\n",
       "      <td>12</td>\n",
       "    </tr>\n",
       "  </tbody>\n",
       "</table>\n",
       "</div>"
      ],
      "text/plain": [
       "  CUST_ID      BALANCE  BALANCE_FREQUENCY  PURCHASES  ONEOFF_PURCHASES  \\\n",
       "0  C10006  1809.828751                1.0    1333.28              0.00   \n",
       "1  C10079  5860.433624                1.0     561.87            249.50   \n",
       "2  C10353  1254.669100                1.0     361.73            361.73   \n",
       "\n",
       "   INSTALLMENTS_PURCHASES  CASH_ADVANCE  PURCHASES_FREQUENCY  \\\n",
       "0                 1333.28      0.000000             0.666667   \n",
       "1                  312.37      0.000000             0.833333   \n",
       "2                    0.00    198.686744             0.166667   \n",
       "\n",
       "   ONEOFF_PURCHASES_FREQUENCY  PURCHASES_INSTALLMENTS_FREQUENCY  \\\n",
       "0                    0.000000                          0.583333   \n",
       "1                    0.166667                          0.750000   \n",
       "2                    0.166667                          0.000000   \n",
       "\n",
       "   CASH_ADVANCE_FREQUENCY  CASH_ADVANCE_TRX  PURCHASES_TRX  CREDIT_LIMIT  \\\n",
       "0                0.000000                 0              8        1800.0   \n",
       "1                0.000000                 0             14        6000.0   \n",
       "2                0.083333                 1              2        1500.0   \n",
       "\n",
       "      PAYMENTS  MINIMUM_PAYMENTS  PRC_FULL_PAYMENT  TENURE  \n",
       "0  1400.057770       2407.246035               0.0      12  \n",
       "1  1990.044998       2161.428274               0.0      12  \n",
       "2   535.606816        432.688080               0.0      12  "
      ]
     },
     "metadata": {
      "tags": []
     },
     "output_type": "display_data"
    }
   ],
   "source": [
    "\n",
    "# TODO: Select three indices of your choice you wish to sample from the dataset\n",
    "indices = [5,75,342]\n",
    "\n",
    "# Create a DataFrame of the chosen samples\n",
    "samples = pd.DataFrame(df.loc[indices], columns = df.keys()).reset_index(drop = True)\n",
    "print(\"Chosen samples of credit card customers dataset:\")\n",
    "display(samples)"
   ]
  },
  {
   "cell_type": "markdown",
   "metadata": {
    "colab_type": "text",
    "id": "Ec4kGViPV1M2"
   },
   "source": [
    "The mean values of the predictors are as follows\n",
    "\n",
    "\n"
   ]
  },
  {
   "cell_type": "markdown",
   "metadata": {
    "colab_type": "text",
    "id": "smDPsvq2WnR8"
   },
   "source": [
    "# **Heat map of the variables **\n",
    "## let us see if there are any predictors with high correlation\n",
    "\n"
   ]
  },
  {
   "cell_type": "code",
   "execution_count": 20,
   "metadata": {
    "colab": {
     "base_uri": "https://localhost:8080/",
     "height": 1630
    },
    "colab_type": "code",
    "id": "n8EBi4qlWmky",
    "outputId": "bb454fac-a0b9-478f-8607-eb253d2e671f"
   },
   "outputs": [
    {
     "data": {
      "text/html": [
       "<div>\n",
       "<style scoped>\n",
       "    .dataframe tbody tr th:only-of-type {\n",
       "        vertical-align: middle;\n",
       "    }\n",
       "\n",
       "    .dataframe tbody tr th {\n",
       "        vertical-align: top;\n",
       "    }\n",
       "\n",
       "    .dataframe thead th {\n",
       "        text-align: right;\n",
       "    }\n",
       "</style>\n",
       "<table border=\"1\" class=\"dataframe\">\n",
       "  <thead>\n",
       "    <tr style=\"text-align: right;\">\n",
       "      <th></th>\n",
       "      <th>BALANCE</th>\n",
       "      <th>BALANCE_FREQUENCY</th>\n",
       "      <th>PURCHASES</th>\n",
       "      <th>ONEOFF_PURCHASES</th>\n",
       "      <th>INSTALLMENTS_PURCHASES</th>\n",
       "      <th>CASH_ADVANCE</th>\n",
       "      <th>PURCHASES_FREQUENCY</th>\n",
       "      <th>ONEOFF_PURCHASES_FREQUENCY</th>\n",
       "      <th>PURCHASES_INSTALLMENTS_FREQUENCY</th>\n",
       "      <th>CASH_ADVANCE_FREQUENCY</th>\n",
       "      <th>CASH_ADVANCE_TRX</th>\n",
       "      <th>PURCHASES_TRX</th>\n",
       "      <th>CREDIT_LIMIT</th>\n",
       "      <th>PAYMENTS</th>\n",
       "      <th>MINIMUM_PAYMENTS</th>\n",
       "      <th>PRC_FULL_PAYMENT</th>\n",
       "      <th>TENURE</th>\n",
       "    </tr>\n",
       "  </thead>\n",
       "  <tbody>\n",
       "    <tr>\n",
       "      <th>BALANCE</th>\n",
       "      <td>1.000000</td>\n",
       "      <td>0.322412</td>\n",
       "      <td>0.181261</td>\n",
       "      <td>0.164350</td>\n",
       "      <td>0.126469</td>\n",
       "      <td>0.496692</td>\n",
       "      <td>-0.077944</td>\n",
       "      <td>0.073166</td>\n",
       "      <td>-0.063186</td>\n",
       "      <td>0.449218</td>\n",
       "      <td>0.385152</td>\n",
       "      <td>0.154338</td>\n",
       "      <td>0.531267</td>\n",
       "      <td>0.322802</td>\n",
       "      <td>0.394282</td>\n",
       "      <td>-0.318959</td>\n",
       "      <td>0.072692</td>\n",
       "    </tr>\n",
       "    <tr>\n",
       "      <th>BALANCE_FREQUENCY</th>\n",
       "      <td>0.322412</td>\n",
       "      <td>1.000000</td>\n",
       "      <td>0.133674</td>\n",
       "      <td>0.104323</td>\n",
       "      <td>0.124292</td>\n",
       "      <td>0.099388</td>\n",
       "      <td>0.229715</td>\n",
       "      <td>0.202415</td>\n",
       "      <td>0.176079</td>\n",
       "      <td>0.191873</td>\n",
       "      <td>0.141555</td>\n",
       "      <td>0.189626</td>\n",
       "      <td>0.095795</td>\n",
       "      <td>0.065008</td>\n",
       "      <td>0.114249</td>\n",
       "      <td>-0.095082</td>\n",
       "      <td>0.119776</td>\n",
       "    </tr>\n",
       "    <tr>\n",
       "      <th>PURCHASES</th>\n",
       "      <td>0.181261</td>\n",
       "      <td>0.133674</td>\n",
       "      <td>1.000000</td>\n",
       "      <td>0.916845</td>\n",
       "      <td>0.679896</td>\n",
       "      <td>-0.051474</td>\n",
       "      <td>0.393017</td>\n",
       "      <td>0.498430</td>\n",
       "      <td>0.315567</td>\n",
       "      <td>-0.120143</td>\n",
       "      <td>-0.067175</td>\n",
       "      <td>0.689561</td>\n",
       "      <td>0.356959</td>\n",
       "      <td>0.603264</td>\n",
       "      <td>0.093515</td>\n",
       "      <td>0.180379</td>\n",
       "      <td>0.086288</td>\n",
       "    </tr>\n",
       "    <tr>\n",
       "      <th>ONEOFF_PURCHASES</th>\n",
       "      <td>0.164350</td>\n",
       "      <td>0.104323</td>\n",
       "      <td>0.916845</td>\n",
       "      <td>1.000000</td>\n",
       "      <td>0.330622</td>\n",
       "      <td>-0.031326</td>\n",
       "      <td>0.264937</td>\n",
       "      <td>0.524891</td>\n",
       "      <td>0.127729</td>\n",
       "      <td>-0.082628</td>\n",
       "      <td>-0.046212</td>\n",
       "      <td>0.545523</td>\n",
       "      <td>0.319721</td>\n",
       "      <td>0.567292</td>\n",
       "      <td>0.048597</td>\n",
       "      <td>0.132763</td>\n",
       "      <td>0.064150</td>\n",
       "    </tr>\n",
       "    <tr>\n",
       "      <th>INSTALLMENTS_PURCHASES</th>\n",
       "      <td>0.126469</td>\n",
       "      <td>0.124292</td>\n",
       "      <td>0.679896</td>\n",
       "      <td>0.330622</td>\n",
       "      <td>1.000000</td>\n",
       "      <td>-0.064244</td>\n",
       "      <td>0.442418</td>\n",
       "      <td>0.214042</td>\n",
       "      <td>0.511351</td>\n",
       "      <td>-0.132318</td>\n",
       "      <td>-0.073999</td>\n",
       "      <td>0.628108</td>\n",
       "      <td>0.256496</td>\n",
       "      <td>0.384084</td>\n",
       "      <td>0.131687</td>\n",
       "      <td>0.182569</td>\n",
       "      <td>0.086143</td>\n",
       "    </tr>\n",
       "    <tr>\n",
       "      <th>CASH_ADVANCE</th>\n",
       "      <td>0.496692</td>\n",
       "      <td>0.099388</td>\n",
       "      <td>-0.051474</td>\n",
       "      <td>-0.031326</td>\n",
       "      <td>-0.064244</td>\n",
       "      <td>1.000000</td>\n",
       "      <td>-0.215507</td>\n",
       "      <td>-0.086754</td>\n",
       "      <td>-0.177070</td>\n",
       "      <td>0.628522</td>\n",
       "      <td>0.656498</td>\n",
       "      <td>-0.075850</td>\n",
       "      <td>0.303983</td>\n",
       "      <td>0.453238</td>\n",
       "      <td>0.139223</td>\n",
       "      <td>-0.152935</td>\n",
       "      <td>-0.068312</td>\n",
       "    </tr>\n",
       "    <tr>\n",
       "      <th>PURCHASES_FREQUENCY</th>\n",
       "      <td>-0.077944</td>\n",
       "      <td>0.229715</td>\n",
       "      <td>0.393017</td>\n",
       "      <td>0.264937</td>\n",
       "      <td>0.442418</td>\n",
       "      <td>-0.215507</td>\n",
       "      <td>1.000000</td>\n",
       "      <td>0.501343</td>\n",
       "      <td>0.862934</td>\n",
       "      <td>-0.308478</td>\n",
       "      <td>-0.203478</td>\n",
       "      <td>0.568430</td>\n",
       "      <td>0.119778</td>\n",
       "      <td>0.103464</td>\n",
       "      <td>0.002976</td>\n",
       "      <td>0.305802</td>\n",
       "      <td>0.061506</td>\n",
       "    </tr>\n",
       "    <tr>\n",
       "      <th>ONEOFF_PURCHASES_FREQUENCY</th>\n",
       "      <td>0.073166</td>\n",
       "      <td>0.202415</td>\n",
       "      <td>0.498430</td>\n",
       "      <td>0.524891</td>\n",
       "      <td>0.214042</td>\n",
       "      <td>-0.086754</td>\n",
       "      <td>0.501343</td>\n",
       "      <td>1.000000</td>\n",
       "      <td>0.142329</td>\n",
       "      <td>-0.111716</td>\n",
       "      <td>-0.069088</td>\n",
       "      <td>0.544869</td>\n",
       "      <td>0.295030</td>\n",
       "      <td>0.243537</td>\n",
       "      <td>-0.029963</td>\n",
       "      <td>0.157531</td>\n",
       "      <td>0.082466</td>\n",
       "    </tr>\n",
       "    <tr>\n",
       "      <th>PURCHASES_INSTALLMENTS_FREQUENCY</th>\n",
       "      <td>-0.063186</td>\n",
       "      <td>0.176079</td>\n",
       "      <td>0.315567</td>\n",
       "      <td>0.127729</td>\n",
       "      <td>0.511351</td>\n",
       "      <td>-0.177070</td>\n",
       "      <td>0.862934</td>\n",
       "      <td>0.142329</td>\n",
       "      <td>1.000000</td>\n",
       "      <td>-0.262958</td>\n",
       "      <td>-0.169207</td>\n",
       "      <td>0.529975</td>\n",
       "      <td>0.060752</td>\n",
       "      <td>0.085551</td>\n",
       "      <td>0.029590</td>\n",
       "      <td>0.250087</td>\n",
       "      <td>0.073275</td>\n",
       "    </tr>\n",
       "    <tr>\n",
       "      <th>CASH_ADVANCE_FREQUENCY</th>\n",
       "      <td>0.449218</td>\n",
       "      <td>0.191873</td>\n",
       "      <td>-0.120143</td>\n",
       "      <td>-0.082628</td>\n",
       "      <td>-0.132318</td>\n",
       "      <td>0.628522</td>\n",
       "      <td>-0.308478</td>\n",
       "      <td>-0.111716</td>\n",
       "      <td>-0.262958</td>\n",
       "      <td>1.000000</td>\n",
       "      <td>0.799561</td>\n",
       "      <td>-0.131168</td>\n",
       "      <td>0.132616</td>\n",
       "      <td>0.183192</td>\n",
       "      <td>0.097898</td>\n",
       "      <td>-0.249773</td>\n",
       "      <td>-0.133372</td>\n",
       "    </tr>\n",
       "    <tr>\n",
       "      <th>CASH_ADVANCE_TRX</th>\n",
       "      <td>0.385152</td>\n",
       "      <td>0.141555</td>\n",
       "      <td>-0.067175</td>\n",
       "      <td>-0.046212</td>\n",
       "      <td>-0.073999</td>\n",
       "      <td>0.656498</td>\n",
       "      <td>-0.203478</td>\n",
       "      <td>-0.069088</td>\n",
       "      <td>-0.169207</td>\n",
       "      <td>0.799561</td>\n",
       "      <td>1.000000</td>\n",
       "      <td>-0.066157</td>\n",
       "      <td>0.149699</td>\n",
       "      <td>0.255278</td>\n",
       "      <td>0.109185</td>\n",
       "      <td>-0.169784</td>\n",
       "      <td>-0.043421</td>\n",
       "    </tr>\n",
       "    <tr>\n",
       "      <th>PURCHASES_TRX</th>\n",
       "      <td>0.154338</td>\n",
       "      <td>0.189626</td>\n",
       "      <td>0.689561</td>\n",
       "      <td>0.545523</td>\n",
       "      <td>0.628108</td>\n",
       "      <td>-0.075850</td>\n",
       "      <td>0.568430</td>\n",
       "      <td>0.544869</td>\n",
       "      <td>0.529975</td>\n",
       "      <td>-0.131168</td>\n",
       "      <td>-0.066157</td>\n",
       "      <td>1.000000</td>\n",
       "      <td>0.272877</td>\n",
       "      <td>0.370832</td>\n",
       "      <td>0.095858</td>\n",
       "      <td>0.162066</td>\n",
       "      <td>0.121874</td>\n",
       "    </tr>\n",
       "    <tr>\n",
       "      <th>CREDIT_LIMIT</th>\n",
       "      <td>0.531267</td>\n",
       "      <td>0.095795</td>\n",
       "      <td>0.356959</td>\n",
       "      <td>0.319721</td>\n",
       "      <td>0.256496</td>\n",
       "      <td>0.303983</td>\n",
       "      <td>0.119778</td>\n",
       "      <td>0.295030</td>\n",
       "      <td>0.060752</td>\n",
       "      <td>0.132616</td>\n",
       "      <td>0.149699</td>\n",
       "      <td>0.272877</td>\n",
       "      <td>1.000000</td>\n",
       "      <td>0.421852</td>\n",
       "      <td>0.125134</td>\n",
       "      <td>0.055671</td>\n",
       "      <td>0.139034</td>\n",
       "    </tr>\n",
       "    <tr>\n",
       "      <th>PAYMENTS</th>\n",
       "      <td>0.322802</td>\n",
       "      <td>0.065008</td>\n",
       "      <td>0.603264</td>\n",
       "      <td>0.567292</td>\n",
       "      <td>0.384084</td>\n",
       "      <td>0.453238</td>\n",
       "      <td>0.103464</td>\n",
       "      <td>0.243537</td>\n",
       "      <td>0.085551</td>\n",
       "      <td>0.183192</td>\n",
       "      <td>0.255278</td>\n",
       "      <td>0.370832</td>\n",
       "      <td>0.421852</td>\n",
       "      <td>1.000000</td>\n",
       "      <td>0.125046</td>\n",
       "      <td>0.112138</td>\n",
       "      <td>0.106136</td>\n",
       "    </tr>\n",
       "    <tr>\n",
       "      <th>MINIMUM_PAYMENTS</th>\n",
       "      <td>0.394282</td>\n",
       "      <td>0.114249</td>\n",
       "      <td>0.093515</td>\n",
       "      <td>0.048597</td>\n",
       "      <td>0.131687</td>\n",
       "      <td>0.139223</td>\n",
       "      <td>0.002976</td>\n",
       "      <td>-0.029963</td>\n",
       "      <td>0.029590</td>\n",
       "      <td>0.097898</td>\n",
       "      <td>0.109185</td>\n",
       "      <td>0.095858</td>\n",
       "      <td>0.125134</td>\n",
       "      <td>0.125046</td>\n",
       "      <td>1.000000</td>\n",
       "      <td>-0.139674</td>\n",
       "      <td>0.057257</td>\n",
       "    </tr>\n",
       "    <tr>\n",
       "      <th>PRC_FULL_PAYMENT</th>\n",
       "      <td>-0.318959</td>\n",
       "      <td>-0.095082</td>\n",
       "      <td>0.180379</td>\n",
       "      <td>0.132763</td>\n",
       "      <td>0.182569</td>\n",
       "      <td>-0.152935</td>\n",
       "      <td>0.305802</td>\n",
       "      <td>0.157531</td>\n",
       "      <td>0.250087</td>\n",
       "      <td>-0.249773</td>\n",
       "      <td>-0.169784</td>\n",
       "      <td>0.162066</td>\n",
       "      <td>0.055671</td>\n",
       "      <td>0.112138</td>\n",
       "      <td>-0.139674</td>\n",
       "      <td>1.000000</td>\n",
       "      <td>-0.016486</td>\n",
       "    </tr>\n",
       "    <tr>\n",
       "      <th>TENURE</th>\n",
       "      <td>0.072692</td>\n",
       "      <td>0.119776</td>\n",
       "      <td>0.086288</td>\n",
       "      <td>0.064150</td>\n",
       "      <td>0.086143</td>\n",
       "      <td>-0.068312</td>\n",
       "      <td>0.061506</td>\n",
       "      <td>0.082466</td>\n",
       "      <td>0.073275</td>\n",
       "      <td>-0.133372</td>\n",
       "      <td>-0.043421</td>\n",
       "      <td>0.121874</td>\n",
       "      <td>0.139034</td>\n",
       "      <td>0.106136</td>\n",
       "      <td>0.057257</td>\n",
       "      <td>-0.016486</td>\n",
       "      <td>1.000000</td>\n",
       "    </tr>\n",
       "  </tbody>\n",
       "</table>\n",
       "</div>"
      ],
      "text/plain": [
       "                                   BALANCE  BALANCE_FREQUENCY  PURCHASES  \\\n",
       "BALANCE                           1.000000           0.322412   0.181261   \n",
       "BALANCE_FREQUENCY                 0.322412           1.000000   0.133674   \n",
       "PURCHASES                         0.181261           0.133674   1.000000   \n",
       "ONEOFF_PURCHASES                  0.164350           0.104323   0.916845   \n",
       "INSTALLMENTS_PURCHASES            0.126469           0.124292   0.679896   \n",
       "CASH_ADVANCE                      0.496692           0.099388  -0.051474   \n",
       "PURCHASES_FREQUENCY              -0.077944           0.229715   0.393017   \n",
       "ONEOFF_PURCHASES_FREQUENCY        0.073166           0.202415   0.498430   \n",
       "PURCHASES_INSTALLMENTS_FREQUENCY -0.063186           0.176079   0.315567   \n",
       "CASH_ADVANCE_FREQUENCY            0.449218           0.191873  -0.120143   \n",
       "CASH_ADVANCE_TRX                  0.385152           0.141555  -0.067175   \n",
       "PURCHASES_TRX                     0.154338           0.189626   0.689561   \n",
       "CREDIT_LIMIT                      0.531267           0.095795   0.356959   \n",
       "PAYMENTS                          0.322802           0.065008   0.603264   \n",
       "MINIMUM_PAYMENTS                  0.394282           0.114249   0.093515   \n",
       "PRC_FULL_PAYMENT                 -0.318959          -0.095082   0.180379   \n",
       "TENURE                            0.072692           0.119776   0.086288   \n",
       "\n",
       "                                  ONEOFF_PURCHASES  INSTALLMENTS_PURCHASES  \\\n",
       "BALANCE                                   0.164350                0.126469   \n",
       "BALANCE_FREQUENCY                         0.104323                0.124292   \n",
       "PURCHASES                                 0.916845                0.679896   \n",
       "ONEOFF_PURCHASES                          1.000000                0.330622   \n",
       "INSTALLMENTS_PURCHASES                    0.330622                1.000000   \n",
       "CASH_ADVANCE                             -0.031326               -0.064244   \n",
       "PURCHASES_FREQUENCY                       0.264937                0.442418   \n",
       "ONEOFF_PURCHASES_FREQUENCY                0.524891                0.214042   \n",
       "PURCHASES_INSTALLMENTS_FREQUENCY          0.127729                0.511351   \n",
       "CASH_ADVANCE_FREQUENCY                   -0.082628               -0.132318   \n",
       "CASH_ADVANCE_TRX                         -0.046212               -0.073999   \n",
       "PURCHASES_TRX                             0.545523                0.628108   \n",
       "CREDIT_LIMIT                              0.319721                0.256496   \n",
       "PAYMENTS                                  0.567292                0.384084   \n",
       "MINIMUM_PAYMENTS                          0.048597                0.131687   \n",
       "PRC_FULL_PAYMENT                          0.132763                0.182569   \n",
       "TENURE                                    0.064150                0.086143   \n",
       "\n",
       "                                  CASH_ADVANCE  PURCHASES_FREQUENCY  \\\n",
       "BALANCE                               0.496692            -0.077944   \n",
       "BALANCE_FREQUENCY                     0.099388             0.229715   \n",
       "PURCHASES                            -0.051474             0.393017   \n",
       "ONEOFF_PURCHASES                     -0.031326             0.264937   \n",
       "INSTALLMENTS_PURCHASES               -0.064244             0.442418   \n",
       "CASH_ADVANCE                          1.000000            -0.215507   \n",
       "PURCHASES_FREQUENCY                  -0.215507             1.000000   \n",
       "ONEOFF_PURCHASES_FREQUENCY           -0.086754             0.501343   \n",
       "PURCHASES_INSTALLMENTS_FREQUENCY     -0.177070             0.862934   \n",
       "CASH_ADVANCE_FREQUENCY                0.628522            -0.308478   \n",
       "CASH_ADVANCE_TRX                      0.656498            -0.203478   \n",
       "PURCHASES_TRX                        -0.075850             0.568430   \n",
       "CREDIT_LIMIT                          0.303983             0.119778   \n",
       "PAYMENTS                              0.453238             0.103464   \n",
       "MINIMUM_PAYMENTS                      0.139223             0.002976   \n",
       "PRC_FULL_PAYMENT                     -0.152935             0.305802   \n",
       "TENURE                               -0.068312             0.061506   \n",
       "\n",
       "                                  ONEOFF_PURCHASES_FREQUENCY  \\\n",
       "BALANCE                                             0.073166   \n",
       "BALANCE_FREQUENCY                                   0.202415   \n",
       "PURCHASES                                           0.498430   \n",
       "ONEOFF_PURCHASES                                    0.524891   \n",
       "INSTALLMENTS_PURCHASES                              0.214042   \n",
       "CASH_ADVANCE                                       -0.086754   \n",
       "PURCHASES_FREQUENCY                                 0.501343   \n",
       "ONEOFF_PURCHASES_FREQUENCY                          1.000000   \n",
       "PURCHASES_INSTALLMENTS_FREQUENCY                    0.142329   \n",
       "CASH_ADVANCE_FREQUENCY                             -0.111716   \n",
       "CASH_ADVANCE_TRX                                   -0.069088   \n",
       "PURCHASES_TRX                                       0.544869   \n",
       "CREDIT_LIMIT                                        0.295030   \n",
       "PAYMENTS                                            0.243537   \n",
       "MINIMUM_PAYMENTS                                   -0.029963   \n",
       "PRC_FULL_PAYMENT                                    0.157531   \n",
       "TENURE                                              0.082466   \n",
       "\n",
       "                                  PURCHASES_INSTALLMENTS_FREQUENCY  \\\n",
       "BALANCE                                                  -0.063186   \n",
       "BALANCE_FREQUENCY                                         0.176079   \n",
       "PURCHASES                                                 0.315567   \n",
       "ONEOFF_PURCHASES                                          0.127729   \n",
       "INSTALLMENTS_PURCHASES                                    0.511351   \n",
       "CASH_ADVANCE                                             -0.177070   \n",
       "PURCHASES_FREQUENCY                                       0.862934   \n",
       "ONEOFF_PURCHASES_FREQUENCY                                0.142329   \n",
       "PURCHASES_INSTALLMENTS_FREQUENCY                          1.000000   \n",
       "CASH_ADVANCE_FREQUENCY                                   -0.262958   \n",
       "CASH_ADVANCE_TRX                                         -0.169207   \n",
       "PURCHASES_TRX                                             0.529975   \n",
       "CREDIT_LIMIT                                              0.060752   \n",
       "PAYMENTS                                                  0.085551   \n",
       "MINIMUM_PAYMENTS                                          0.029590   \n",
       "PRC_FULL_PAYMENT                                          0.250087   \n",
       "TENURE                                                    0.073275   \n",
       "\n",
       "                                  CASH_ADVANCE_FREQUENCY  CASH_ADVANCE_TRX  \\\n",
       "BALANCE                                         0.449218          0.385152   \n",
       "BALANCE_FREQUENCY                               0.191873          0.141555   \n",
       "PURCHASES                                      -0.120143         -0.067175   \n",
       "ONEOFF_PURCHASES                               -0.082628         -0.046212   \n",
       "INSTALLMENTS_PURCHASES                         -0.132318         -0.073999   \n",
       "CASH_ADVANCE                                    0.628522          0.656498   \n",
       "PURCHASES_FREQUENCY                            -0.308478         -0.203478   \n",
       "ONEOFF_PURCHASES_FREQUENCY                     -0.111716         -0.069088   \n",
       "PURCHASES_INSTALLMENTS_FREQUENCY               -0.262958         -0.169207   \n",
       "CASH_ADVANCE_FREQUENCY                          1.000000          0.799561   \n",
       "CASH_ADVANCE_TRX                                0.799561          1.000000   \n",
       "PURCHASES_TRX                                  -0.131168         -0.066157   \n",
       "CREDIT_LIMIT                                    0.132616          0.149699   \n",
       "PAYMENTS                                        0.183192          0.255278   \n",
       "MINIMUM_PAYMENTS                                0.097898          0.109185   \n",
       "PRC_FULL_PAYMENT                               -0.249773         -0.169784   \n",
       "TENURE                                         -0.133372         -0.043421   \n",
       "\n",
       "                                  PURCHASES_TRX  CREDIT_LIMIT  PAYMENTS  \\\n",
       "BALANCE                                0.154338      0.531267  0.322802   \n",
       "BALANCE_FREQUENCY                      0.189626      0.095795  0.065008   \n",
       "PURCHASES                              0.689561      0.356959  0.603264   \n",
       "ONEOFF_PURCHASES                       0.545523      0.319721  0.567292   \n",
       "INSTALLMENTS_PURCHASES                 0.628108      0.256496  0.384084   \n",
       "CASH_ADVANCE                          -0.075850      0.303983  0.453238   \n",
       "PURCHASES_FREQUENCY                    0.568430      0.119778  0.103464   \n",
       "ONEOFF_PURCHASES_FREQUENCY             0.544869      0.295030  0.243537   \n",
       "PURCHASES_INSTALLMENTS_FREQUENCY       0.529975      0.060752  0.085551   \n",
       "CASH_ADVANCE_FREQUENCY                -0.131168      0.132616  0.183192   \n",
       "CASH_ADVANCE_TRX                      -0.066157      0.149699  0.255278   \n",
       "PURCHASES_TRX                          1.000000      0.272877  0.370832   \n",
       "CREDIT_LIMIT                           0.272877      1.000000  0.421852   \n",
       "PAYMENTS                               0.370832      0.421852  1.000000   \n",
       "MINIMUM_PAYMENTS                       0.095858      0.125134  0.125046   \n",
       "PRC_FULL_PAYMENT                       0.162066      0.055671  0.112138   \n",
       "TENURE                                 0.121874      0.139034  0.106136   \n",
       "\n",
       "                                  MINIMUM_PAYMENTS  PRC_FULL_PAYMENT    TENURE  \n",
       "BALANCE                                   0.394282         -0.318959  0.072692  \n",
       "BALANCE_FREQUENCY                         0.114249         -0.095082  0.119776  \n",
       "PURCHASES                                 0.093515          0.180379  0.086288  \n",
       "ONEOFF_PURCHASES                          0.048597          0.132763  0.064150  \n",
       "INSTALLMENTS_PURCHASES                    0.131687          0.182569  0.086143  \n",
       "CASH_ADVANCE                              0.139223         -0.152935 -0.068312  \n",
       "PURCHASES_FREQUENCY                       0.002976          0.305802  0.061506  \n",
       "ONEOFF_PURCHASES_FREQUENCY               -0.029963          0.157531  0.082466  \n",
       "PURCHASES_INSTALLMENTS_FREQUENCY          0.029590          0.250087  0.073275  \n",
       "CASH_ADVANCE_FREQUENCY                    0.097898         -0.249773 -0.133372  \n",
       "CASH_ADVANCE_TRX                          0.109185         -0.169784 -0.043421  \n",
       "PURCHASES_TRX                             0.095858          0.162066  0.121874  \n",
       "CREDIT_LIMIT                              0.125134          0.055671  0.139034  \n",
       "PAYMENTS                                  0.125046          0.112138  0.106136  \n",
       "MINIMUM_PAYMENTS                          1.000000         -0.139674  0.057257  \n",
       "PRC_FULL_PAYMENT                         -0.139674          1.000000 -0.016486  \n",
       "TENURE                                    0.057257         -0.016486  1.000000  "
      ]
     },
     "execution_count": 20,
     "metadata": {
      "tags": []
     },
     "output_type": "execute_result"
    },
    {
     "data": {
      "image/png": "[encoded data removed]",
      "text/plain": [
       "<Figure size 2160x1080 with 2 Axes>"
      ]
     },
     "metadata": {
      "tags": []
     },
     "output_type": "display_data"
    }
   ],
   "source": [
    "# Create a correlation matrix. What features correlate the most eachpther? \n",
    "corr = df.corr()\n",
    "fig, ax = plt.subplots(figsize=(30,15))    \n",
    "sns.heatmap(corr, \n",
    "            xticklabels=corr.columns.values,\n",
    "            yticklabels=corr.columns.values,\n",
    "            linewidths=.2, \n",
    "            ax=ax,\n",
    "            annot=True, \n",
    "            annot_kws={\"size\": 7})\n",
    "plt.title('Heatmap of Correlation Matrix')\n",
    "corr"
   ]
  },
  {
   "cell_type": "markdown",
   "metadata": {
    "colab_type": "text",
    "id": "b7WxiOtPXm9Y"
   },
   "source": [
    "We see that many variables have high correlation, let us try to get the pairs with high correlation from the below code"
   ]
  },
  {
   "cell_type": "code",
   "execution_count": 21,
   "metadata": {
    "colab": {
     "base_uri": "https://localhost:8080/",
     "height": 159
    },
    "colab_type": "code",
    "id": "YXPqnnTtXGzz",
    "outputId": "b67e32fc-1d6e-4bb3-feb3-fe03d318e978"
   },
   "outputs": [
    {
     "data": {
      "text/plain": [
       "{('CASH_ADVANCE', 'CASH_ADVANCE_FREQUENCY'): 0.9118370648288009,\n",
       " ('CASH_ADVANCE', 'CASH_ADVANCE_TRX'): 0.9170453786323367,\n",
       " ('CASH_ADVANCE_FREQUENCY', 'CASH_ADVANCE_TRX'): 0.9769561655289744,\n",
       " ('INSTALLMENTS_PURCHASES', 'PURCHASES_TRX'): 0.8603490822035166,\n",
       " ('PURCHASES', 'ONEOFF_PURCHASES'): 0.9535932980644026,\n",
       " ('PURCHASES', 'PURCHASES_TRX'): 0.8643451146665079,\n",
       " ('PURCHASES_FREQUENCY',\n",
       "  'PURCHASES_INSTALLMENTS_FREQUENCY'): 0.9533728151834796}"
      ]
     },
     "execution_count": 21,
     "metadata": {
      "tags": []
     },
     "output_type": "execute_result"
    }
   ],
   "source": [
    "def get_pairs(df):\n",
    "    '''Grabs the combinations of pairs of column names '''\n",
    "    pairs = set()\n",
    "    cols = df.columns\n",
    "    for i in range(0, df.shape[1]):\n",
    "        for j in range(0, i+1):\n",
    "            pairs.add((cols[i], cols[j]))\n",
    "    return pairs\n",
    "\n",
    "def top_abs_corrs(df, n=.5):\n",
    "    '''Returns the variables with absolute value of correlation >= n'''\n",
    "    corrs = df.corr().abs().unstack()\n",
    "    pairs = get_pairs(df)\n",
    "    top_corrs = corrs.drop(labels=pairs).sort_values(ascending=False)\n",
    "    top_corrs = top_corrs.to_dict()\n",
    "    d= {k: v for k, v in top_corrs.items() if  v >= n}\n",
    "#     return top_corrs[0:n]\n",
    "    return d\n",
    "\n",
    "# return pairs from the correlation matrix with correlation >= .85\n",
    "top_corrs = top_abs_corrs(corr,.85)\n",
    "top_corrs"
   ]
  },
  {
   "cell_type": "markdown",
   "metadata": {
    "colab_type": "text",
    "id": "DlBQvTm-YpUR"
   },
   "source": [
    "We see the following\n",
    "\n",
    "\n",
    "*   we see that Cash_Advance has high correlation of about 91% with cash_advance_frequency, cash_advance_trx...so it is safe to drop these two columns \n",
    "*   purchases has high correlation of 95% with oneoff_purchases, so it is good to drop oneoff_purchases\n",
    "\n",
    "*   Purchase_frequence has high correlation of 95% with purchases_installments_frequency, so we are good to drop purchases_installments_frequency\n",
    "\n",
    "\n",
    "\n",
    "*  PURCHASES_TRX has about 86% correlation with Purchasesm so lets go ahead and drop that as well\n",
    "\n",
    "\n",
    "\n",
    "\n",
    "\n"
   ]
  },
  {
   "cell_type": "markdown",
   "metadata": {
    "colab_type": "text",
    "id": "S0kDmwrnqfeN"
   },
   "source": [
    "# **Outlier Detection using Isolation Forest**\n",
    "\n",
    "**Return the anomaly score of each sample using the IsolationForest algorithm**\n",
    "\n",
    "**The IsolationForest ‘isolates’ observations by randomly selecting a feature and then randomly selecting a split value between the maximum and minimum values of the selected feature.**\n",
    "\n",
    "**Since recursive partitioning can be represented by a tree structure, the number of splittings required to isolate a sample is equivalent to the path length from the root node to the terminating node.**\n",
    "\n",
    "**This path length, averaged over a forest of such random trees, is a measure of normality and our decision function.**\n",
    "\n",
    "**Random partitioning produces noticeably shorter paths for anomalies. Hence, when a forest of random trees collectively produce shorter path lengths for particular samples, they are highly likely to be anomalies.**\n",
    "\n",
    "**It gives a score of -1 for anomalies**"
   ]
  },
  {
   "cell_type": "code",
   "execution_count": 22,
   "metadata": {
    "colab": {
     "base_uri": "https://localhost:8080/",
     "height": 302
    },
    "colab_type": "code",
    "id": "rsMHXRDDVACW",
    "outputId": "25a51cbc-8746-4fa7-996b-ad4d1955c6ab"
   },
   "outputs": [
    {
     "data": {
      "text/html": [
       "<div>\n",
       "<style scoped>\n",
       "    .dataframe tbody tr th:only-of-type {\n",
       "        vertical-align: middle;\n",
       "    }\n",
       "\n",
       "    .dataframe tbody tr th {\n",
       "        vertical-align: top;\n",
       "    }\n",
       "\n",
       "    .dataframe thead th {\n",
       "        text-align: right;\n",
       "    }\n",
       "</style>\n",
       "<table border=\"1\" class=\"dataframe\">\n",
       "  <thead>\n",
       "    <tr style=\"text-align: right;\">\n",
       "      <th></th>\n",
       "      <th>BALANCE</th>\n",
       "      <th>BALANCE_FREQUENCY</th>\n",
       "      <th>PURCHASES</th>\n",
       "      <th>ONEOFF_PURCHASES</th>\n",
       "      <th>INSTALLMENTS_PURCHASES</th>\n",
       "      <th>CASH_ADVANCE</th>\n",
       "      <th>PURCHASES_FREQUENCY</th>\n",
       "      <th>ONEOFF_PURCHASES_FREQUENCY</th>\n",
       "      <th>PURCHASES_INSTALLMENTS_FREQUENCY</th>\n",
       "      <th>CASH_ADVANCE_FREQUENCY</th>\n",
       "      <th>CASH_ADVANCE_TRX</th>\n",
       "      <th>PURCHASES_TRX</th>\n",
       "      <th>CREDIT_LIMIT</th>\n",
       "      <th>PAYMENTS</th>\n",
       "      <th>MINIMUM_PAYMENTS</th>\n",
       "      <th>PRC_FULL_PAYMENT</th>\n",
       "      <th>TENURE</th>\n",
       "    </tr>\n",
       "  </thead>\n",
       "  <tbody>\n",
       "    <tr>\n",
       "      <th>count</th>\n",
       "      <td>8950.000000</td>\n",
       "      <td>8950.000000</td>\n",
       "      <td>8950.000000</td>\n",
       "      <td>8950.000000</td>\n",
       "      <td>8950.000000</td>\n",
       "      <td>8950.000000</td>\n",
       "      <td>8950.000000</td>\n",
       "      <td>8950.000000</td>\n",
       "      <td>8950.000000</td>\n",
       "      <td>8950.000000</td>\n",
       "      <td>8950.000000</td>\n",
       "      <td>8950.000000</td>\n",
       "      <td>8950.000000</td>\n",
       "      <td>8950.000000</td>\n",
       "      <td>8950.000000</td>\n",
       "      <td>8950.000000</td>\n",
       "      <td>8950.000000</td>\n",
       "    </tr>\n",
       "    <tr>\n",
       "      <th>mean</th>\n",
       "      <td>1564.474828</td>\n",
       "      <td>0.877271</td>\n",
       "      <td>1003.204834</td>\n",
       "      <td>592.437371</td>\n",
       "      <td>411.067645</td>\n",
       "      <td>978.871112</td>\n",
       "      <td>0.490351</td>\n",
       "      <td>0.202458</td>\n",
       "      <td>0.364437</td>\n",
       "      <td>0.135144</td>\n",
       "      <td>3.248827</td>\n",
       "      <td>14.709832</td>\n",
       "      <td>4494.449450</td>\n",
       "      <td>1733.143852</td>\n",
       "      <td>864.206542</td>\n",
       "      <td>0.153715</td>\n",
       "      <td>11.517318</td>\n",
       "    </tr>\n",
       "    <tr>\n",
       "      <th>std</th>\n",
       "      <td>2081.531879</td>\n",
       "      <td>0.236904</td>\n",
       "      <td>2136.634782</td>\n",
       "      <td>1659.887917</td>\n",
       "      <td>904.338115</td>\n",
       "      <td>2097.163877</td>\n",
       "      <td>0.401371</td>\n",
       "      <td>0.298336</td>\n",
       "      <td>0.397448</td>\n",
       "      <td>0.200121</td>\n",
       "      <td>6.824647</td>\n",
       "      <td>24.857649</td>\n",
       "      <td>3638.612411</td>\n",
       "      <td>2895.063757</td>\n",
       "      <td>2330.588021</td>\n",
       "      <td>0.292499</td>\n",
       "      <td>1.338331</td>\n",
       "    </tr>\n",
       "    <tr>\n",
       "      <th>min</th>\n",
       "      <td>0.000000</td>\n",
       "      <td>0.000000</td>\n",
       "      <td>0.000000</td>\n",
       "      <td>0.000000</td>\n",
       "      <td>0.000000</td>\n",
       "      <td>0.000000</td>\n",
       "      <td>0.000000</td>\n",
       "      <td>0.000000</td>\n",
       "      <td>0.000000</td>\n",
       "      <td>0.000000</td>\n",
       "      <td>0.000000</td>\n",
       "      <td>0.000000</td>\n",
       "      <td>50.000000</td>\n",
       "      <td>0.000000</td>\n",
       "      <td>0.019163</td>\n",
       "      <td>0.000000</td>\n",
       "      <td>6.000000</td>\n",
       "    </tr>\n",
       "    <tr>\n",
       "      <th>25%</th>\n",
       "      <td>128.281915</td>\n",
       "      <td>0.888889</td>\n",
       "      <td>39.635000</td>\n",
       "      <td>0.000000</td>\n",
       "      <td>0.000000</td>\n",
       "      <td>0.000000</td>\n",
       "      <td>0.083333</td>\n",
       "      <td>0.000000</td>\n",
       "      <td>0.000000</td>\n",
       "      <td>0.000000</td>\n",
       "      <td>0.000000</td>\n",
       "      <td>1.000000</td>\n",
       "      <td>1600.000000</td>\n",
       "      <td>383.276166</td>\n",
       "      <td>170.857654</td>\n",
       "      <td>0.000000</td>\n",
       "      <td>12.000000</td>\n",
       "    </tr>\n",
       "    <tr>\n",
       "      <th>50%</th>\n",
       "      <td>873.385231</td>\n",
       "      <td>1.000000</td>\n",
       "      <td>361.280000</td>\n",
       "      <td>38.000000</td>\n",
       "      <td>89.000000</td>\n",
       "      <td>0.000000</td>\n",
       "      <td>0.500000</td>\n",
       "      <td>0.083333</td>\n",
       "      <td>0.166667</td>\n",
       "      <td>0.000000</td>\n",
       "      <td>0.000000</td>\n",
       "      <td>7.000000</td>\n",
       "      <td>3000.000000</td>\n",
       "      <td>856.901546</td>\n",
       "      <td>335.628312</td>\n",
       "      <td>0.000000</td>\n",
       "      <td>12.000000</td>\n",
       "    </tr>\n",
       "    <tr>\n",
       "      <th>75%</th>\n",
       "      <td>2054.140036</td>\n",
       "      <td>1.000000</td>\n",
       "      <td>1110.130000</td>\n",
       "      <td>577.405000</td>\n",
       "      <td>468.637500</td>\n",
       "      <td>1113.821139</td>\n",
       "      <td>0.916667</td>\n",
       "      <td>0.300000</td>\n",
       "      <td>0.750000</td>\n",
       "      <td>0.222222</td>\n",
       "      <td>4.000000</td>\n",
       "      <td>17.000000</td>\n",
       "      <td>6500.000000</td>\n",
       "      <td>1901.134317</td>\n",
       "      <td>864.206542</td>\n",
       "      <td>0.142857</td>\n",
       "      <td>12.000000</td>\n",
       "    </tr>\n",
       "    <tr>\n",
       "      <th>max</th>\n",
       "      <td>19043.138560</td>\n",
       "      <td>1.000000</td>\n",
       "      <td>49039.570000</td>\n",
       "      <td>40761.250000</td>\n",
       "      <td>22500.000000</td>\n",
       "      <td>47137.211760</td>\n",
       "      <td>1.000000</td>\n",
       "      <td>1.000000</td>\n",
       "      <td>1.000000</td>\n",
       "      <td>1.500000</td>\n",
       "      <td>123.000000</td>\n",
       "      <td>358.000000</td>\n",
       "      <td>30000.000000</td>\n",
       "      <td>50721.483360</td>\n",
       "      <td>76406.207520</td>\n",
       "      <td>1.000000</td>\n",
       "      <td>12.000000</td>\n",
       "    </tr>\n",
       "  </tbody>\n",
       "</table>\n",
       "</div>"
      ],
      "text/plain": [
       "            BALANCE  BALANCE_FREQUENCY     PURCHASES  ONEOFF_PURCHASES  \\\n",
       "count   8950.000000        8950.000000   8950.000000       8950.000000   \n",
       "mean    1564.474828           0.877271   1003.204834        592.437371   \n",
       "std     2081.531879           0.236904   2136.634782       1659.887917   \n",
       "min        0.000000           0.000000      0.000000          0.000000   \n",
       "25%      128.281915           0.888889     39.635000          0.000000   \n",
       "50%      873.385231           1.000000    361.280000         38.000000   \n",
       "75%     2054.140036           1.000000   1110.130000        577.405000   \n",
       "max    19043.138560           1.000000  49039.570000      40761.250000   \n",
       "\n",
       "       INSTALLMENTS_PURCHASES  CASH_ADVANCE  PURCHASES_FREQUENCY  \\\n",
       "count             8950.000000   8950.000000          8950.000000   \n",
       "mean               411.067645    978.871112             0.490351   \n",
       "std                904.338115   2097.163877             0.401371   \n",
       "min                  0.000000      0.000000             0.000000   \n",
       "25%                  0.000000      0.000000             0.083333   \n",
       "50%                 89.000000      0.000000             0.500000   \n",
       "75%                468.637500   1113.821139             0.916667   \n",
       "max              22500.000000  47137.211760             1.000000   \n",
       "\n",
       "       ONEOFF_PURCHASES_FREQUENCY  PURCHASES_INSTALLMENTS_FREQUENCY  \\\n",
       "count                 8950.000000                       8950.000000   \n",
       "mean                     0.202458                          0.364437   \n",
       "std                      0.298336                          0.397448   \n",
       "min                      0.000000                          0.000000   \n",
       "25%                      0.000000                          0.000000   \n",
       "50%                      0.083333                          0.166667   \n",
       "75%                      0.300000                          0.750000   \n",
       "max                      1.000000                          1.000000   \n",
       "\n",
       "       CASH_ADVANCE_FREQUENCY  CASH_ADVANCE_TRX  PURCHASES_TRX  CREDIT_LIMIT  \\\n",
       "count             8950.000000       8950.000000    8950.000000   8950.000000   \n",
       "mean                 0.135144          3.248827      14.709832   4494.449450   \n",
       "std                  0.200121          6.824647      24.857649   3638.612411   \n",
       "min                  0.000000          0.000000       0.000000     50.000000   \n",
       "25%                  0.000000          0.000000       1.000000   1600.000000   \n",
       "50%                  0.000000          0.000000       7.000000   3000.000000   \n",
       "75%                  0.222222          4.000000      17.000000   6500.000000   \n",
       "max                  1.500000        123.000000     358.000000  30000.000000   \n",
       "\n",
       "           PAYMENTS  MINIMUM_PAYMENTS  PRC_FULL_PAYMENT       TENURE  \n",
       "count   8950.000000       8950.000000       8950.000000  8950.000000  \n",
       "mean    1733.143852        864.206542          0.153715    11.517318  \n",
       "std     2895.063757       2330.588021          0.292499     1.338331  \n",
       "min        0.000000          0.019163          0.000000     6.000000  \n",
       "25%      383.276166        170.857654          0.000000    12.000000  \n",
       "50%      856.901546        335.628312          0.000000    12.000000  \n",
       "75%     1901.134317        864.206542          0.142857    12.000000  \n",
       "max    50721.483360      76406.207520          1.000000    12.000000  "
      ]
     },
     "execution_count": 22,
     "metadata": {
      "tags": []
     },
     "output_type": "execute_result"
    }
   ],
   "source": [
    "df_temp = df.drop('CUST_ID',axis=1)\n",
    "\n",
    "#Let us see the how the data of each variable looks like using describe()\n",
    "df_temp.describe()"
   ]
  },
  {
   "cell_type": "code",
   "execution_count": 30,
   "metadata": {
    "colab": {
     "base_uri": "https://localhost:8080/",
     "height": 144
    },
    "colab_type": "code",
    "id": "3dbGKyjesyka",
    "outputId": "f2e3eb49-b67d-4431-ec42-6b7d9442646b"
   },
   "outputs": [
    {
     "name": "stderr",
     "output_type": "stream",
     "text": [
      "/usr/local/lib/python3.6/dist-packages/sklearn/ensemble/iforest.py:213: FutureWarning: default contamination parameter 0.1 will change in version 0.22 to \"auto\". This will change the predict method behavior.\n",
      "  FutureWarning)\n",
      "/usr/local/lib/python3.6/dist-packages/sklearn/ensemble/iforest.py:223: FutureWarning: behaviour=\"old\" is deprecated and will be removed in version 0.22. Please use behaviour=\"new\", which makes the decision_function change to match other anomaly detection algorithm API.\n",
      "  FutureWarning)\n",
      "/usr/local/lib/python3.6/dist-packages/sklearn/ensemble/iforest.py:417: DeprecationWarning: threshold_ attribute is deprecated in 0.20 and will be removed in 0.22.\n",
      "  \" be removed in 0.22.\", DeprecationWarning)\n"
     ]
    }
   ],
   "source": [
    "from sklearn.ensemble import IsolationForest\n",
    "\n",
    "\n",
    "# clf = IsolationForest(n_jobs=6,n_estimators=500, max_samples=256, random_state=23)\n",
    "# fit the model\n",
    "clf = IsolationForest(max_samples=100)\n",
    "clf.fit(df_temp)\n",
    "y_pred_train = clf.predict(df_temp)\n"
   ]
  },
  {
   "cell_type": "code",
   "execution_count": 74,
   "metadata": {
    "colab": {
     "base_uri": "https://localhost:8080/",
     "height": 231
    },
    "colab_type": "code",
    "id": "2xawzXYIPnQo",
    "outputId": "1a2cb472-c216-48c6-ef4e-b5b5ca0a2d20"
   },
   "outputs": [
    {
     "data": {
      "text/html": [
       "<div>\n",
       "<style scoped>\n",
       "    .dataframe tbody tr th:only-of-type {\n",
       "        vertical-align: middle;\n",
       "    }\n",
       "\n",
       "    .dataframe tbody tr th {\n",
       "        vertical-align: top;\n",
       "    }\n",
       "\n",
       "    .dataframe thead th {\n",
       "        text-align: right;\n",
       "    }\n",
       "</style>\n",
       "<table border=\"1\" class=\"dataframe\">\n",
       "  <thead>\n",
       "    <tr style=\"text-align: right;\">\n",
       "      <th></th>\n",
       "      <th>BALANCE</th>\n",
       "      <th>BALANCE_FREQUENCY</th>\n",
       "      <th>PURCHASES</th>\n",
       "      <th>ONEOFF_PURCHASES</th>\n",
       "      <th>INSTALLMENTS_PURCHASES</th>\n",
       "      <th>CASH_ADVANCE</th>\n",
       "      <th>PURCHASES_FREQUENCY</th>\n",
       "      <th>ONEOFF_PURCHASES_FREQUENCY</th>\n",
       "      <th>PURCHASES_INSTALLMENTS_FREQUENCY</th>\n",
       "      <th>CASH_ADVANCE_FREQUENCY</th>\n",
       "      <th>CASH_ADVANCE_TRX</th>\n",
       "      <th>PURCHASES_TRX</th>\n",
       "      <th>CREDIT_LIMIT</th>\n",
       "      <th>PAYMENTS</th>\n",
       "      <th>MINIMUM_PAYMENTS</th>\n",
       "      <th>PRC_FULL_PAYMENT</th>\n",
       "      <th>TENURE</th>\n",
       "      <th>not outlier</th>\n",
       "    </tr>\n",
       "  </thead>\n",
       "  <tbody>\n",
       "    <tr>\n",
       "      <th>0</th>\n",
       "      <td>40.900749</td>\n",
       "      <td>0.818182</td>\n",
       "      <td>95.40</td>\n",
       "      <td>0.00</td>\n",
       "      <td>95.4</td>\n",
       "      <td>0.000000</td>\n",
       "      <td>0.166667</td>\n",
       "      <td>0.000000</td>\n",
       "      <td>0.083333</td>\n",
       "      <td>0.000000</td>\n",
       "      <td>0</td>\n",
       "      <td>2</td>\n",
       "      <td>1000.0</td>\n",
       "      <td>201.802084</td>\n",
       "      <td>139.509787</td>\n",
       "      <td>0.000000</td>\n",
       "      <td>12</td>\n",
       "      <td>1</td>\n",
       "    </tr>\n",
       "    <tr>\n",
       "      <th>1</th>\n",
       "      <td>3202.467416</td>\n",
       "      <td>0.909091</td>\n",
       "      <td>0.00</td>\n",
       "      <td>0.00</td>\n",
       "      <td>0.0</td>\n",
       "      <td>6442.945483</td>\n",
       "      <td>0.000000</td>\n",
       "      <td>0.000000</td>\n",
       "      <td>0.000000</td>\n",
       "      <td>0.250000</td>\n",
       "      <td>4</td>\n",
       "      <td>0</td>\n",
       "      <td>7000.0</td>\n",
       "      <td>4103.032597</td>\n",
       "      <td>1072.340217</td>\n",
       "      <td>0.222222</td>\n",
       "      <td>12</td>\n",
       "      <td>1</td>\n",
       "    </tr>\n",
       "    <tr>\n",
       "      <th>2</th>\n",
       "      <td>2495.148862</td>\n",
       "      <td>1.000000</td>\n",
       "      <td>773.17</td>\n",
       "      <td>773.17</td>\n",
       "      <td>0.0</td>\n",
       "      <td>0.000000</td>\n",
       "      <td>1.000000</td>\n",
       "      <td>1.000000</td>\n",
       "      <td>0.000000</td>\n",
       "      <td>0.000000</td>\n",
       "      <td>0</td>\n",
       "      <td>12</td>\n",
       "      <td>7500.0</td>\n",
       "      <td>622.066742</td>\n",
       "      <td>627.284787</td>\n",
       "      <td>0.000000</td>\n",
       "      <td>12</td>\n",
       "      <td>1</td>\n",
       "    </tr>\n",
       "    <tr>\n",
       "      <th>3</th>\n",
       "      <td>1666.670542</td>\n",
       "      <td>0.636364</td>\n",
       "      <td>1499.00</td>\n",
       "      <td>1499.00</td>\n",
       "      <td>0.0</td>\n",
       "      <td>205.788017</td>\n",
       "      <td>0.083333</td>\n",
       "      <td>0.083333</td>\n",
       "      <td>0.000000</td>\n",
       "      <td>0.083333</td>\n",
       "      <td>1</td>\n",
       "      <td>1</td>\n",
       "      <td>7500.0</td>\n",
       "      <td>0.000000</td>\n",
       "      <td>864.206542</td>\n",
       "      <td>0.000000</td>\n",
       "      <td>12</td>\n",
       "      <td>1</td>\n",
       "    </tr>\n",
       "    <tr>\n",
       "      <th>4</th>\n",
       "      <td>817.714335</td>\n",
       "      <td>1.000000</td>\n",
       "      <td>16.00</td>\n",
       "      <td>16.00</td>\n",
       "      <td>0.0</td>\n",
       "      <td>0.000000</td>\n",
       "      <td>0.083333</td>\n",
       "      <td>0.083333</td>\n",
       "      <td>0.000000</td>\n",
       "      <td>0.000000</td>\n",
       "      <td>0</td>\n",
       "      <td>1</td>\n",
       "      <td>1200.0</td>\n",
       "      <td>678.334763</td>\n",
       "      <td>244.791237</td>\n",
       "      <td>0.000000</td>\n",
       "      <td>12</td>\n",
       "      <td>1</td>\n",
       "    </tr>\n",
       "  </tbody>\n",
       "</table>\n",
       "</div>"
      ],
      "text/plain": [
       "       BALANCE  BALANCE_FREQUENCY  PURCHASES  ONEOFF_PURCHASES  \\\n",
       "0    40.900749           0.818182      95.40              0.00   \n",
       "1  3202.467416           0.909091       0.00              0.00   \n",
       "2  2495.148862           1.000000     773.17            773.17   \n",
       "3  1666.670542           0.636364    1499.00           1499.00   \n",
       "4   817.714335           1.000000      16.00             16.00   \n",
       "\n",
       "   INSTALLMENTS_PURCHASES  CASH_ADVANCE  PURCHASES_FREQUENCY  \\\n",
       "0                    95.4      0.000000             0.166667   \n",
       "1                     0.0   6442.945483             0.000000   \n",
       "2                     0.0      0.000000             1.000000   \n",
       "3                     0.0    205.788017             0.083333   \n",
       "4                     0.0      0.000000             0.083333   \n",
       "\n",
       "   ONEOFF_PURCHASES_FREQUENCY  PURCHASES_INSTALLMENTS_FREQUENCY  \\\n",
       "0                    0.000000                          0.083333   \n",
       "1                    0.000000                          0.000000   \n",
       "2                    1.000000                          0.000000   \n",
       "3                    0.083333                          0.000000   \n",
       "4                    0.083333                          0.000000   \n",
       "\n",
       "   CASH_ADVANCE_FREQUENCY  CASH_ADVANCE_TRX  PURCHASES_TRX  CREDIT_LIMIT  \\\n",
       "0                0.000000                 0              2        1000.0   \n",
       "1                0.250000                 4              0        7000.0   \n",
       "2                0.000000                 0             12        7500.0   \n",
       "3                0.083333                 1              1        7500.0   \n",
       "4                0.000000                 0              1        1200.0   \n",
       "\n",
       "      PAYMENTS  MINIMUM_PAYMENTS  PRC_FULL_PAYMENT  TENURE  not outlier  \n",
       "0   201.802084        139.509787          0.000000      12            1  \n",
       "1  4103.032597       1072.340217          0.222222      12            1  \n",
       "2   622.066742        627.284787          0.000000      12            1  \n",
       "3     0.000000        864.206542          0.000000      12            1  \n",
       "4   678.334763        244.791237          0.000000      12            1  "
      ]
     },
     "execution_count": 74,
     "metadata": {
      "tags": []
     },
     "output_type": "execute_result"
    }
   ],
   "source": [
    "df_temp['not outlier'] = y_pred_train\n",
    "df_temp.head()"
   ]
  },
  {
   "cell_type": "code",
   "execution_count": 0,
   "metadata": {
    "colab": {},
    "colab_type": "code",
    "id": "lo3lXkvFP9Qb"
   },
   "outputs": [],
   "source": [
    "df_clean = df_temp.drop(df_temp[df_temp['not outlier']==-1].index)\n",
    "df_clean.drop('not outlier',axis=1, inplace= True)"
   ]
  },
  {
   "cell_type": "code",
   "execution_count": 33,
   "metadata": {
    "colab": {
     "base_uri": "https://localhost:8080/",
     "height": 214
    },
    "colab_type": "code",
    "id": "qe7dm0VzQ6Lm",
    "outputId": "0b989720-f630-4452-88a9-a211626d6c61"
   },
   "outputs": [
    {
     "data": {
      "text/html": [
       "<div>\n",
       "<style scoped>\n",
       "    .dataframe tbody tr th:only-of-type {\n",
       "        vertical-align: middle;\n",
       "    }\n",
       "\n",
       "    .dataframe tbody tr th {\n",
       "        vertical-align: top;\n",
       "    }\n",
       "\n",
       "    .dataframe thead th {\n",
       "        text-align: right;\n",
       "    }\n",
       "</style>\n",
       "<table border=\"1\" class=\"dataframe\">\n",
       "  <thead>\n",
       "    <tr style=\"text-align: right;\">\n",
       "      <th></th>\n",
       "      <th>BALANCE</th>\n",
       "      <th>BALANCE_FREQUENCY</th>\n",
       "      <th>PURCHASES</th>\n",
       "      <th>ONEOFF_PURCHASES</th>\n",
       "      <th>INSTALLMENTS_PURCHASES</th>\n",
       "      <th>CASH_ADVANCE</th>\n",
       "      <th>PURCHASES_FREQUENCY</th>\n",
       "      <th>ONEOFF_PURCHASES_FREQUENCY</th>\n",
       "      <th>PURCHASES_INSTALLMENTS_FREQUENCY</th>\n",
       "      <th>CASH_ADVANCE_FREQUENCY</th>\n",
       "      <th>CASH_ADVANCE_TRX</th>\n",
       "      <th>PURCHASES_TRX</th>\n",
       "      <th>CREDIT_LIMIT</th>\n",
       "      <th>PAYMENTS</th>\n",
       "      <th>MINIMUM_PAYMENTS</th>\n",
       "      <th>PRC_FULL_PAYMENT</th>\n",
       "      <th>TENURE</th>\n",
       "    </tr>\n",
       "  </thead>\n",
       "  <tbody>\n",
       "    <tr>\n",
       "      <th>0</th>\n",
       "      <td>40.900749</td>\n",
       "      <td>0.818182</td>\n",
       "      <td>95.40</td>\n",
       "      <td>0.00</td>\n",
       "      <td>95.4</td>\n",
       "      <td>0.000000</td>\n",
       "      <td>0.166667</td>\n",
       "      <td>0.000000</td>\n",
       "      <td>0.083333</td>\n",
       "      <td>0.000000</td>\n",
       "      <td>0</td>\n",
       "      <td>2</td>\n",
       "      <td>1000.0</td>\n",
       "      <td>201.802084</td>\n",
       "      <td>139.509787</td>\n",
       "      <td>0.000000</td>\n",
       "      <td>12</td>\n",
       "    </tr>\n",
       "    <tr>\n",
       "      <th>1</th>\n",
       "      <td>3202.467416</td>\n",
       "      <td>0.909091</td>\n",
       "      <td>0.00</td>\n",
       "      <td>0.00</td>\n",
       "      <td>0.0</td>\n",
       "      <td>6442.945483</td>\n",
       "      <td>0.000000</td>\n",
       "      <td>0.000000</td>\n",
       "      <td>0.000000</td>\n",
       "      <td>0.250000</td>\n",
       "      <td>4</td>\n",
       "      <td>0</td>\n",
       "      <td>7000.0</td>\n",
       "      <td>4103.032597</td>\n",
       "      <td>1072.340217</td>\n",
       "      <td>0.222222</td>\n",
       "      <td>12</td>\n",
       "    </tr>\n",
       "    <tr>\n",
       "      <th>2</th>\n",
       "      <td>2495.148862</td>\n",
       "      <td>1.000000</td>\n",
       "      <td>773.17</td>\n",
       "      <td>773.17</td>\n",
       "      <td>0.0</td>\n",
       "      <td>0.000000</td>\n",
       "      <td>1.000000</td>\n",
       "      <td>1.000000</td>\n",
       "      <td>0.000000</td>\n",
       "      <td>0.000000</td>\n",
       "      <td>0</td>\n",
       "      <td>12</td>\n",
       "      <td>7500.0</td>\n",
       "      <td>622.066742</td>\n",
       "      <td>627.284787</td>\n",
       "      <td>0.000000</td>\n",
       "      <td>12</td>\n",
       "    </tr>\n",
       "    <tr>\n",
       "      <th>3</th>\n",
       "      <td>1666.670542</td>\n",
       "      <td>0.636364</td>\n",
       "      <td>1499.00</td>\n",
       "      <td>1499.00</td>\n",
       "      <td>0.0</td>\n",
       "      <td>205.788017</td>\n",
       "      <td>0.083333</td>\n",
       "      <td>0.083333</td>\n",
       "      <td>0.000000</td>\n",
       "      <td>0.083333</td>\n",
       "      <td>1</td>\n",
       "      <td>1</td>\n",
       "      <td>7500.0</td>\n",
       "      <td>0.000000</td>\n",
       "      <td>864.206542</td>\n",
       "      <td>0.000000</td>\n",
       "      <td>12</td>\n",
       "    </tr>\n",
       "    <tr>\n",
       "      <th>4</th>\n",
       "      <td>817.714335</td>\n",
       "      <td>1.000000</td>\n",
       "      <td>16.00</td>\n",
       "      <td>16.00</td>\n",
       "      <td>0.0</td>\n",
       "      <td>0.000000</td>\n",
       "      <td>0.083333</td>\n",
       "      <td>0.083333</td>\n",
       "      <td>0.000000</td>\n",
       "      <td>0.000000</td>\n",
       "      <td>0</td>\n",
       "      <td>1</td>\n",
       "      <td>1200.0</td>\n",
       "      <td>678.334763</td>\n",
       "      <td>244.791237</td>\n",
       "      <td>0.000000</td>\n",
       "      <td>12</td>\n",
       "    </tr>\n",
       "  </tbody>\n",
       "</table>\n",
       "</div>"
      ],
      "text/plain": [
       "       BALANCE  BALANCE_FREQUENCY  PURCHASES  ONEOFF_PURCHASES  \\\n",
       "0    40.900749           0.818182      95.40              0.00   \n",
       "1  3202.467416           0.909091       0.00              0.00   \n",
       "2  2495.148862           1.000000     773.17            773.17   \n",
       "3  1666.670542           0.636364    1499.00           1499.00   \n",
       "4   817.714335           1.000000      16.00             16.00   \n",
       "\n",
       "   INSTALLMENTS_PURCHASES  CASH_ADVANCE  PURCHASES_FREQUENCY  \\\n",
       "0                    95.4      0.000000             0.166667   \n",
       "1                     0.0   6442.945483             0.000000   \n",
       "2                     0.0      0.000000             1.000000   \n",
       "3                     0.0    205.788017             0.083333   \n",
       "4                     0.0      0.000000             0.083333   \n",
       "\n",
       "   ONEOFF_PURCHASES_FREQUENCY  PURCHASES_INSTALLMENTS_FREQUENCY  \\\n",
       "0                    0.000000                          0.083333   \n",
       "1                    0.000000                          0.000000   \n",
       "2                    1.000000                          0.000000   \n",
       "3                    0.083333                          0.000000   \n",
       "4                    0.083333                          0.000000   \n",
       "\n",
       "   CASH_ADVANCE_FREQUENCY  CASH_ADVANCE_TRX  PURCHASES_TRX  CREDIT_LIMIT  \\\n",
       "0                0.000000                 0              2        1000.0   \n",
       "1                0.250000                 4              0        7000.0   \n",
       "2                0.000000                 0             12        7500.0   \n",
       "3                0.083333                 1              1        7500.0   \n",
       "4                0.000000                 0              1        1200.0   \n",
       "\n",
       "      PAYMENTS  MINIMUM_PAYMENTS  PRC_FULL_PAYMENT  TENURE  \n",
       "0   201.802084        139.509787          0.000000      12  \n",
       "1  4103.032597       1072.340217          0.222222      12  \n",
       "2   622.066742        627.284787          0.000000      12  \n",
       "3     0.000000        864.206542          0.000000      12  \n",
       "4   678.334763        244.791237          0.000000      12  "
      ]
     },
     "execution_count": 33,
     "metadata": {
      "tags": []
     },
     "output_type": "execute_result"
    }
   ],
   "source": [
    "df_clean.head()"
   ]
  },
  {
   "cell_type": "code",
   "execution_count": 34,
   "metadata": {
    "colab": {
     "base_uri": "https://localhost:8080/",
     "height": 35
    },
    "colab_type": "code",
    "id": "O_PZ-tEDQR9i",
    "outputId": "62427e3b-e0cd-4146-a405-0e6f51658889"
   },
   "outputs": [
    {
     "data": {
      "text/plain": [
       "8055"
      ]
     },
     "execution_count": 34,
     "metadata": {
      "tags": []
     },
     "output_type": "execute_result"
    }
   ],
   "source": [
    "#df_clean has no outliers and its length is 8055 with 895 entries being removed from the original data set\n",
    "len(df_clean)\n"
   ]
  },
  {
   "cell_type": "markdown",
   "metadata": {
    "colab_type": "text",
    "id": "KUCvMVLqd9eX"
   },
   "source": [
    "# **Visualising the Data Distribution**"
   ]
  },
  {
   "cell_type": "code",
   "execution_count": 36,
   "metadata": {
    "colab": {
     "base_uri": "https://localhost:8080/",
     "height": 347
    },
    "colab_type": "code",
    "id": "XC6T56UheB1j",
    "outputId": "46e27fec-b98a-4939-9a3b-de4d9cef0427"
   },
   "outputs": [
    {
     "data": {
      "image/png": "[encoded data removed]",
      "text/plain": [
       "<Figure size 576x396 with 20 Axes>"
      ]
     },
     "metadata": {
      "tags": []
     },
     "output_type": "display_data"
    }
   ],
   "source": [
    "#Univariate Analysis\n",
    "df_clean.plot(kind='density', subplots=True, layout=(5,4), sharex=False)\n",
    "plt.show()\n"
   ]
  },
  {
   "cell_type": "markdown",
   "metadata": {
    "colab_type": "text",
    "id": "LOZNYZDjNARg"
   },
   "source": [
    "**We see that most of the data are skewed**"
   ]
  },
  {
   "cell_type": "markdown",
   "metadata": {
    "colab_type": "text",
    "id": "aH-XTfuFNzFM"
   },
   "source": [
    "# **Feature Transformation**"
   ]
  },
  {
   "cell_type": "markdown",
   "metadata": {
    "colab_type": "text",
    "id": "pML_GiaKNu3O"
   },
   "source": [
    "**In this section you will use principal component analysis (PCA) to draw conclusions about the underlying structure of the wholesale customer data. Since using PCA on a dataset calculates the dimensions which best maximize variance, we will find which compound combinations of features best describe customers.**"
   ]
  },
  {
   "cell_type": "markdown",
   "metadata": {
    "colab_type": "text",
    "id": "uuieN8FgQrUW"
   },
   "source": [
    "## Pre-Req: Standardize the Dataset\n",
    "### First, lets rescale our feature vectors"
   ]
  },
  {
   "cell_type": "code",
   "execution_count": 37,
   "metadata": {
    "colab": {
     "base_uri": "https://localhost:8080/",
     "height": 88
    },
    "colab_type": "code",
    "id": "NWT7z3kVfPj3",
    "outputId": "fe9b8b83-a291-433d-c67a-2d0491ada180"
   },
   "outputs": [
    {
     "name": "stderr",
     "output_type": "stream",
     "text": [
      "/usr/local/lib/python3.6/dist-packages/sklearn/preprocessing/data.py:645: DataConversionWarning: Data with input dtype int64, float64 were all converted to float64 by StandardScaler.\n",
      "  return self.partial_fit(X, y)\n",
      "/usr/local/lib/python3.6/dist-packages/sklearn/base.py:464: DataConversionWarning: Data with input dtype int64, float64 were all converted to float64 by StandardScaler.\n",
      "  return self.fit(X, **fit_params).transform(X)\n"
     ]
    }
   ],
   "source": [
    "from sklearn.preprocessing import StandardScaler\n",
    "scaled_df = StandardScaler().fit_transform(df_clean)\n",
    "df_processed = pd.DataFrame(scaled_df,columns = df_clean.columns)"
   ]
  },
  {
   "cell_type": "markdown",
   "metadata": {
    "colab_type": "text",
    "id": "BliQ8HwCRTQe"
   },
   "source": [
    "## Choosing the Right Number of Dimensions\n",
    "\n",
    "### The goal is to choose the right number of dimensions that captures the most variance. "
   ]
  },
  {
   "cell_type": "code",
   "execution_count": 38,
   "metadata": {
    "colab": {
     "base_uri": "https://localhost:8080/",
     "height": 376
    },
    "colab_type": "code",
    "id": "3LkvVTCNRUzK",
    "outputId": "7fead169-1ae3-4256-ff54-364149194b65"
   },
   "outputs": [
    {
     "data": {
      "image/png": "[encoded data removed]",
      "text/plain": [
       "<Figure size 576x396 with 1 Axes>"
      ]
     },
     "metadata": {
      "tags": []
     },
     "output_type": "display_data"
    }
   ],
   "source": [
    "#Fitting the PCA algorithm with our Data\n",
    "from sklearn.decomposition import PCA\n",
    "pca = PCA().fit(df_processed)\n",
    "\n",
    "#Plotting the Cumulative Summation of the Explained Variance\n",
    "plt.figure()\n",
    "plt.plot(np.cumsum(pca.explained_variance_ratio_))\n",
    "plt.xlabel('Number of Components')\n",
    "plt.ylabel('Variance (%)') #for each component\n",
    "plt.title('Credit card Dataset Explained Variance')\n",
    "plt.show()"
   ]
  },
  {
   "cell_type": "markdown",
   "metadata": {
    "colab_type": "text",
    "id": "4Mwo-t4kSKdF"
   },
   "source": [
    "we see that at components=7 we can explain about 85% of the variance.Let us chose the number of components as 7"
   ]
  },
  {
   "cell_type": "code",
   "execution_count": 0,
   "metadata": {
    "colab": {},
    "colab_type": "code",
    "id": "9DomHE7fSS3H"
   },
   "outputs": [],
   "source": [
    "# TODO: Apply PCA by fitting the good data with the same number of dimensions as features\n",
    "pca = PCA(n_components=8)\n",
    "pcomponents = pca.fit_transform(scaled_df)\n",
    "df_pca = pd.DataFrame(data = pcomponents, columns = ['PC1', 'PC2','PC3', 'PC4','PC5', 'PC6','PC7','PC8'])\n"
   ]
  },
  {
   "cell_type": "code",
   "execution_count": 43,
   "metadata": {
    "colab": {
     "base_uri": "https://localhost:8080/",
     "height": 194
    },
    "colab_type": "code",
    "id": "tQtJU555TkMe",
    "outputId": "0bcdb391-0c2d-4842-bd5d-a5429c104858"
   },
   "outputs": [
    {
     "data": {
      "text/html": [
       "<div>\n",
       "<style scoped>\n",
       "    .dataframe tbody tr th:only-of-type {\n",
       "        vertical-align: middle;\n",
       "    }\n",
       "\n",
       "    .dataframe tbody tr th {\n",
       "        vertical-align: top;\n",
       "    }\n",
       "\n",
       "    .dataframe thead th {\n",
       "        text-align: right;\n",
       "    }\n",
       "</style>\n",
       "<table border=\"1\" class=\"dataframe\">\n",
       "  <thead>\n",
       "    <tr style=\"text-align: right;\">\n",
       "      <th></th>\n",
       "      <th>PC1</th>\n",
       "      <th>PC2</th>\n",
       "      <th>PC3</th>\n",
       "      <th>PC4</th>\n",
       "      <th>PC5</th>\n",
       "      <th>PC6</th>\n",
       "      <th>PC7</th>\n",
       "      <th>PC8</th>\n",
       "    </tr>\n",
       "  </thead>\n",
       "  <tbody>\n",
       "    <tr>\n",
       "      <th>0</th>\n",
       "      <td>0.903492</td>\n",
       "      <td>-1.945454</td>\n",
       "      <td>0.372983</td>\n",
       "      <td>0.665525</td>\n",
       "      <td>0.095946</td>\n",
       "      <td>-0.579439</td>\n",
       "      <td>0.505254</td>\n",
       "      <td>-0.180630</td>\n",
       "    </tr>\n",
       "    <tr>\n",
       "      <th>1</th>\n",
       "      <td>3.062577</td>\n",
       "      <td>2.545186</td>\n",
       "      <td>-0.105984</td>\n",
       "      <td>-1.677381</td>\n",
       "      <td>1.518020</td>\n",
       "      <td>0.090528</td>\n",
       "      <td>-0.248566</td>\n",
       "      <td>0.022647</td>\n",
       "    </tr>\n",
       "    <tr>\n",
       "      <th>2</th>\n",
       "      <td>-1.399894</td>\n",
       "      <td>1.110397</td>\n",
       "      <td>2.121895</td>\n",
       "      <td>1.477419</td>\n",
       "      <td>-0.326238</td>\n",
       "      <td>-0.118130</td>\n",
       "      <td>-1.594226</td>\n",
       "      <td>0.008607</td>\n",
       "    </tr>\n",
       "    <tr>\n",
       "      <th>3</th>\n",
       "      <td>0.240699</td>\n",
       "      <td>0.202767</td>\n",
       "      <td>2.235551</td>\n",
       "      <td>0.490837</td>\n",
       "      <td>0.543420</td>\n",
       "      <td>0.350769</td>\n",
       "      <td>0.094360</td>\n",
       "      <td>-0.623622</td>\n",
       "    </tr>\n",
       "    <tr>\n",
       "      <th>4</th>\n",
       "      <td>1.119585</td>\n",
       "      <td>-1.404661</td>\n",
       "      <td>0.545559</td>\n",
       "      <td>1.037591</td>\n",
       "      <td>0.062857</td>\n",
       "      <td>-0.684356</td>\n",
       "      <td>0.161928</td>\n",
       "      <td>-0.006236</td>\n",
       "    </tr>\n",
       "  </tbody>\n",
       "</table>\n",
       "</div>"
      ],
      "text/plain": [
       "        PC1       PC2       PC3       PC4       PC5       PC6       PC7  \\\n",
       "0  0.903492 -1.945454  0.372983  0.665525  0.095946 -0.579439  0.505254   \n",
       "1  3.062577  2.545186 -0.105984 -1.677381  1.518020  0.090528 -0.248566   \n",
       "2 -1.399894  1.110397  2.121895  1.477419 -0.326238 -0.118130 -1.594226   \n",
       "3  0.240699  0.202767  2.235551  0.490837  0.543420  0.350769  0.094360   \n",
       "4  1.119585 -1.404661  0.545559  1.037591  0.062857 -0.684356  0.161928   \n",
       "\n",
       "        PC8  \n",
       "0 -0.180630  \n",
       "1  0.022647  \n",
       "2  0.008607  \n",
       "3 -0.623622  \n",
       "4 -0.006236  "
      ]
     },
     "execution_count": 43,
     "metadata": {
      "tags": []
     },
     "output_type": "execute_result"
    }
   ],
   "source": [
    "df_pca.head()"
   ]
  },
  {
   "cell_type": "code",
   "execution_count": 44,
   "metadata": {
    "colab": {
     "base_uri": "https://localhost:8080/",
     "height": 35
    },
    "colab_type": "code",
    "id": "5FPdVm1kTspj",
    "outputId": "87ebd0cf-9dcd-49d0-bc39-7aaff9768403"
   },
   "outputs": [
    {
     "data": {
      "text/plain": [
       "0.8465543992318026"
      ]
     },
     "execution_count": 44,
     "metadata": {
      "tags": []
     },
     "output_type": "execute_result"
    }
   ],
   "source": [
    "#Let us see how much of the total variance is explained by these 7 compoents\n",
    "sum(pca.explained_variance_ratio_)"
   ]
  },
  {
   "cell_type": "markdown",
   "metadata": {
    "colab_type": "text",
    "id": "ll0Y_c1_T52q"
   },
   "source": [
    "**The variance explained is close to 85% from 7 components from the initial 18 variables we had**"
   ]
  },
  {
   "cell_type": "markdown",
   "metadata": {
    "colab_type": "text",
    "id": "PSX8hyGqUJLz"
   },
   "source": [
    "## Interpreting Principle Components"
   ]
  },
  {
   "cell_type": "code",
   "execution_count": 46,
   "metadata": {
    "colab": {
     "base_uri": "https://localhost:8080/",
     "height": 302
    },
    "colab_type": "code",
    "id": "QgBKuS39UBdj",
    "outputId": "c5619350-da5b-450d-eb31-dfc394de81fe"
   },
   "outputs": [
    {
     "data": {
      "text/html": [
       "<div>\n",
       "<style scoped>\n",
       "    .dataframe tbody tr th:only-of-type {\n",
       "        vertical-align: middle;\n",
       "    }\n",
       "\n",
       "    .dataframe tbody tr th {\n",
       "        vertical-align: top;\n",
       "    }\n",
       "\n",
       "    .dataframe thead th {\n",
       "        text-align: right;\n",
       "    }\n",
       "</style>\n",
       "<table border=\"1\" class=\"dataframe\">\n",
       "  <thead>\n",
       "    <tr style=\"text-align: right;\">\n",
       "      <th></th>\n",
       "      <th>BALANCE</th>\n",
       "      <th>BALANCE_FREQUENCY</th>\n",
       "      <th>PURCHASES</th>\n",
       "      <th>ONEOFF_PURCHASES</th>\n",
       "      <th>INSTALLMENTS_PURCHASES</th>\n",
       "      <th>CASH_ADVANCE</th>\n",
       "      <th>PURCHASES_FREQUENCY</th>\n",
       "      <th>ONEOFF_PURCHASES_FREQUENCY</th>\n",
       "      <th>PURCHASES_INSTALLMENTS_FREQUENCY</th>\n",
       "      <th>CASH_ADVANCE_FREQUENCY</th>\n",
       "      <th>CASH_ADVANCE_TRX</th>\n",
       "      <th>PURCHASES_TRX</th>\n",
       "      <th>CREDIT_LIMIT</th>\n",
       "      <th>PAYMENTS</th>\n",
       "      <th>MINIMUM_PAYMENTS</th>\n",
       "      <th>PRC_FULL_PAYMENT</th>\n",
       "      <th>TENURE</th>\n",
       "    </tr>\n",
       "  </thead>\n",
       "  <tbody>\n",
       "    <tr>\n",
       "      <th>PC1</th>\n",
       "      <td>0.153874</td>\n",
       "      <td>-0.051649</td>\n",
       "      <td>-0.364726</td>\n",
       "      <td>-0.248159</td>\n",
       "      <td>-0.313113</td>\n",
       "      <td>0.244348</td>\n",
       "      <td>-0.383408</td>\n",
       "      <td>-0.248250</td>\n",
       "      <td>-0.327234</td>\n",
       "      <td>0.277209</td>\n",
       "      <td>0.247980</td>\n",
       "      <td>-0.356268</td>\n",
       "      <td>-0.033817</td>\n",
       "      <td>-0.026533</td>\n",
       "      <td>0.053078</td>\n",
       "      <td>-0.176973</td>\n",
       "      <td>-0.065876</td>\n",
       "    </tr>\n",
       "    <tr>\n",
       "      <th>PC2</th>\n",
       "      <td>0.413577</td>\n",
       "      <td>0.268823</td>\n",
       "      <td>0.236209</td>\n",
       "      <td>0.245333</td>\n",
       "      <td>0.091570</td>\n",
       "      <td>0.341756</td>\n",
       "      <td>0.036565</td>\n",
       "      <td>0.209617</td>\n",
       "      <td>-0.014449</td>\n",
       "      <td>0.308664</td>\n",
       "      <td>0.309308</td>\n",
       "      <td>0.172436</td>\n",
       "      <td>0.311660</td>\n",
       "      <td>0.319766</td>\n",
       "      <td>0.147768</td>\n",
       "      <td>-0.122460</td>\n",
       "      <td>0.114653</td>\n",
       "    </tr>\n",
       "    <tr>\n",
       "      <th>PC3</th>\n",
       "      <td>-0.091192</td>\n",
       "      <td>-0.220348</td>\n",
       "      <td>0.143905</td>\n",
       "      <td>0.462845</td>\n",
       "      <td>-0.355488</td>\n",
       "      <td>-0.110478</td>\n",
       "      <td>-0.243455</td>\n",
       "      <td>0.400475</td>\n",
       "      <td>-0.470929</td>\n",
       "      <td>-0.162815</td>\n",
       "      <td>-0.175573</td>\n",
       "      <td>-0.110250</td>\n",
       "      <td>0.147939</td>\n",
       "      <td>0.089403</td>\n",
       "      <td>-0.158155</td>\n",
       "      <td>-0.034890</td>\n",
       "      <td>0.050949</td>\n",
       "    </tr>\n",
       "    <tr>\n",
       "      <th>PC4</th>\n",
       "      <td>0.251626</td>\n",
       "      <td>0.382869</td>\n",
       "      <td>-0.048331</td>\n",
       "      <td>0.043531</td>\n",
       "      <td>-0.141721</td>\n",
       "      <td>-0.272241</td>\n",
       "      <td>0.006897</td>\n",
       "      <td>0.091280</td>\n",
       "      <td>-0.042371</td>\n",
       "      <td>-0.150015</td>\n",
       "      <td>-0.189889</td>\n",
       "      <td>0.028502</td>\n",
       "      <td>-0.139919</td>\n",
       "      <td>-0.384253</td>\n",
       "      <td>0.431593</td>\n",
       "      <td>-0.470075</td>\n",
       "      <td>0.218276</td>\n",
       "    </tr>\n",
       "    <tr>\n",
       "      <th>PC5</th>\n",
       "      <td>0.160949</td>\n",
       "      <td>-0.238541</td>\n",
       "      <td>-0.080585</td>\n",
       "      <td>-0.188407</td>\n",
       "      <td>0.106098</td>\n",
       "      <td>0.008244</td>\n",
       "      <td>-0.104886</td>\n",
       "      <td>-0.250102</td>\n",
       "      <td>0.010570</td>\n",
       "      <td>-0.319121</td>\n",
       "      <td>-0.289164</td>\n",
       "      <td>-0.106373</td>\n",
       "      <td>0.431542</td>\n",
       "      <td>0.300881</td>\n",
       "      <td>0.289886</td>\n",
       "      <td>0.116217</td>\n",
       "      <td>0.468131</td>\n",
       "    </tr>\n",
       "    <tr>\n",
       "      <th>PC6</th>\n",
       "      <td>0.127266</td>\n",
       "      <td>-0.267633</td>\n",
       "      <td>0.079084</td>\n",
       "      <td>0.079426</td>\n",
       "      <td>0.034240</td>\n",
       "      <td>0.057839</td>\n",
       "      <td>0.011576</td>\n",
       "      <td>-0.001989</td>\n",
       "      <td>-0.000221</td>\n",
       "      <td>-0.088628</td>\n",
       "      <td>-0.141636</td>\n",
       "      <td>-0.009159</td>\n",
       "      <td>0.070876</td>\n",
       "      <td>0.036608</td>\n",
       "      <td>0.565572</td>\n",
       "      <td>0.017187</td>\n",
       "      <td>-0.735137</td>\n",
       "    </tr>\n",
       "    <tr>\n",
       "      <th>PC7</th>\n",
       "      <td>-0.220014</td>\n",
       "      <td>-0.332992</td>\n",
       "      <td>0.215761</td>\n",
       "      <td>0.137729</td>\n",
       "      <td>0.197277</td>\n",
       "      <td>-0.003728</td>\n",
       "      <td>-0.146206</td>\n",
       "      <td>-0.149966</td>\n",
       "      <td>-0.022822</td>\n",
       "      <td>0.068766</td>\n",
       "      <td>0.124361</td>\n",
       "      <td>0.082405</td>\n",
       "      <td>-0.557246</td>\n",
       "      <td>0.350193</td>\n",
       "      <td>0.224918</td>\n",
       "      <td>-0.362356</td>\n",
       "      <td>0.223241</td>\n",
       "    </tr>\n",
       "    <tr>\n",
       "      <th>PC8</th>\n",
       "      <td>-0.169544</td>\n",
       "      <td>0.166352</td>\n",
       "      <td>-0.065560</td>\n",
       "      <td>0.047732</td>\n",
       "      <td>-0.177762</td>\n",
       "      <td>-0.049859</td>\n",
       "      <td>0.027279</td>\n",
       "      <td>0.172354</td>\n",
       "      <td>-0.100603</td>\n",
       "      <td>0.105316</td>\n",
       "      <td>0.193100</td>\n",
       "      <td>-0.062565</td>\n",
       "      <td>-0.252765</td>\n",
       "      <td>0.020527</td>\n",
       "      <td>0.491208</td>\n",
       "      <td>0.676218</td>\n",
       "      <td>0.217230</td>\n",
       "    </tr>\n",
       "  </tbody>\n",
       "</table>\n",
       "</div>"
      ],
      "text/plain": [
       "      BALANCE  BALANCE_FREQUENCY  PURCHASES  ONEOFF_PURCHASES  \\\n",
       "PC1  0.153874          -0.051649  -0.364726         -0.248159   \n",
       "PC2  0.413577           0.268823   0.236209          0.245333   \n",
       "PC3 -0.091192          -0.220348   0.143905          0.462845   \n",
       "PC4  0.251626           0.382869  -0.048331          0.043531   \n",
       "PC5  0.160949          -0.238541  -0.080585         -0.188407   \n",
       "PC6  0.127266          -0.267633   0.079084          0.079426   \n",
       "PC7 -0.220014          -0.332992   0.215761          0.137729   \n",
       "PC8 -0.169544           0.166352  -0.065560          0.047732   \n",
       "\n",
       "     INSTALLMENTS_PURCHASES  CASH_ADVANCE  PURCHASES_FREQUENCY  \\\n",
       "PC1               -0.313113      0.244348            -0.383408   \n",
       "PC2                0.091570      0.341756             0.036565   \n",
       "PC3               -0.355488     -0.110478            -0.243455   \n",
       "PC4               -0.141721     -0.272241             0.006897   \n",
       "PC5                0.106098      0.008244            -0.104886   \n",
       "PC6                0.034240      0.057839             0.011576   \n",
       "PC7                0.197277     -0.003728            -0.146206   \n",
       "PC8               -0.177762     -0.049859             0.027279   \n",
       "\n",
       "     ONEOFF_PURCHASES_FREQUENCY  PURCHASES_INSTALLMENTS_FREQUENCY  \\\n",
       "PC1                   -0.248250                         -0.327234   \n",
       "PC2                    0.209617                         -0.014449   \n",
       "PC3                    0.400475                         -0.470929   \n",
       "PC4                    0.091280                         -0.042371   \n",
       "PC5                   -0.250102                          0.010570   \n",
       "PC6                   -0.001989                         -0.000221   \n",
       "PC7                   -0.149966                         -0.022822   \n",
       "PC8                    0.172354                         -0.100603   \n",
       "\n",
       "     CASH_ADVANCE_FREQUENCY  CASH_ADVANCE_TRX  PURCHASES_TRX  CREDIT_LIMIT  \\\n",
       "PC1                0.277209          0.247980      -0.356268     -0.033817   \n",
       "PC2                0.308664          0.309308       0.172436      0.311660   \n",
       "PC3               -0.162815         -0.175573      -0.110250      0.147939   \n",
       "PC4               -0.150015         -0.189889       0.028502     -0.139919   \n",
       "PC5               -0.319121         -0.289164      -0.106373      0.431542   \n",
       "PC6               -0.088628         -0.141636      -0.009159      0.070876   \n",
       "PC7                0.068766          0.124361       0.082405     -0.557246   \n",
       "PC8                0.105316          0.193100      -0.062565     -0.252765   \n",
       "\n",
       "     PAYMENTS  MINIMUM_PAYMENTS  PRC_FULL_PAYMENT    TENURE  \n",
       "PC1 -0.026533          0.053078         -0.176973 -0.065876  \n",
       "PC2  0.319766          0.147768         -0.122460  0.114653  \n",
       "PC3  0.089403         -0.158155         -0.034890  0.050949  \n",
       "PC4 -0.384253          0.431593         -0.470075  0.218276  \n",
       "PC5  0.300881          0.289886          0.116217  0.468131  \n",
       "PC6  0.036608          0.565572          0.017187 -0.735137  \n",
       "PC7  0.350193          0.224918         -0.362356  0.223241  \n",
       "PC8  0.020527          0.491208          0.676218  0.217230  "
      ]
     },
     "execution_count": 46,
     "metadata": {
      "tags": []
     },
     "output_type": "execute_result"
    }
   ],
   "source": [
    "pd.DataFrame(pca.components_, columns=list(df_clean.columns), index=('PC1', 'PC2','PC3', 'PC4','PC5', 'PC6','PC7','PC8'))"
   ]
  },
  {
   "cell_type": "markdown",
   "metadata": {
    "colab_type": "text",
    "id": "i_DLzqTeUbvv"
   },
   "source": [
    "\n",
    "\n",
    "*   **The first component gives most weightage to the purchases made and least weightage to the balance. And some good weightage to Installment Purchases,One off purchases . This component keeps track of all the different types of purchases**\n",
    "*   **The second component gives highest weightage to the balance followed by minimum payments, cash_advance, and PRC_full payment. So this component is dealing with plus and minus of the amount.cash flow that is happening in the customers credit card**\n",
    "\n",
    "**So The Principal component can be used to express latent features in the data set**\n",
    "\n"
   ]
  },
  {
   "cell_type": "markdown",
   "metadata": {
    "colab_type": "text",
    "id": "AgmywQW-YMj6"
   },
   "source": [
    "# **Clustering**"
   ]
  },
  {
   "cell_type": "markdown",
   "metadata": {
    "colab_type": "text",
    "id": "sSsrfvZcT4RA"
   },
   "source": [
    "# **K Means Clustering**"
   ]
  },
  {
   "cell_type": "code",
   "execution_count": 0,
   "metadata": {
    "colab": {},
    "colab_type": "code",
    "id": "eOSfo1osWAsl"
   },
   "outputs": [],
   "source": [
    "#Now that we have standardised and applied Principal Components, We shall cluster the data using Kmeans Clustering\n",
    "import pylab as pl\n",
    "from sklearn.cluster import KMeans"
   ]
  },
  {
   "cell_type": "markdown",
   "metadata": {
    "colab_type": "text",
    "id": "t--EMLVuYnXD"
   },
   "source": [
    "# **How many Clusters?**\n",
    "\n",
    "### Let us use elbow method to decide upon the number of clusters"
   ]
  },
  {
   "cell_type": "code",
   "execution_count": 48,
   "metadata": {
    "colab": {
     "base_uri": "https://localhost:8080/",
     "height": 376
    },
    "colab_type": "code",
    "id": "CgyuLdAkYlZW",
    "outputId": "e30d2fe0-b3c5-4585-f5b6-5fd62b4815f8"
   },
   "outputs": [
    {
     "data": {
      "image/png": "[encoded data removed]",
      "text/plain": [
       "<Figure size 576x396 with 1 Axes>"
      ]
     },
     "metadata": {
      "tags": []
     },
     "output_type": "display_data"
    }
   ],
   "source": [
    "# Create K Clusters of 15\n",
    "k = range(1,15)\n",
    "\n",
    "# Instantiate and Fit KMeans of Clusters 1-15\n",
    "kmeans = [KMeans(n_clusters=i) for i in k]\n",
    "score = [kmeans[i].fit(df_pca).score(df_pca) for i in range(len(kmeans))]\n",
    "\n",
    "# Plot the Elbow Method\n",
    "pl.plot(k,score)\n",
    "pl.xlabel('Number of Clusters')\n",
    "pl.ylabel('Score')\n",
    "pl.title('Elbow Curve')\n",
    "pl.show()"
   ]
  },
  {
   "cell_type": "markdown",
   "metadata": {
    "colab_type": "text",
    "id": "91-KmrWwNaiH"
   },
   "source": [
    "**It is not so clear from the elbow curve, let us check the average Silhouette Scores**"
   ]
  },
  {
   "cell_type": "markdown",
   "metadata": {
    "colab_type": "text",
    "id": "yn46X3ZiYAF-"
   },
   "source": [
    "## Silhouette Score\n",
    "\n",
    "### The main goal of clustering is to minimise the intra cluster distance or make the points inside a cluster as dense as possible and intercluster distance or the distance between any two clusters as maximum as possible\n",
    "\n",
    "### Silhouette analysis can be used to study the separation distance between the resulting clusters. The silhouette plot displays a measure of how close each point in one cluster is to points in the neighboring clusters and thus provides a way to assess parameters like number of clusters visually. This measure has a range of [-1, 1].\n",
    "\n",
    "### Silhouette coefficients (as these values are referred to as) near +1 indicate that the sample is far away from the neighboring clusters. A value of 0 indicates that the sample is on or very close to the decision boundary between two neighboring clusters and negative values indicate that those samples might have been assigned to the wrong cluster."
   ]
  },
  {
   "cell_type": "code",
   "execution_count": 49,
   "metadata": {
    "colab": {
     "base_uri": "https://localhost:8080/",
     "height": 2781
    },
    "colab_type": "code",
    "id": "cYu8a4uOP7EH",
    "outputId": "656caabd-4929-44c6-8f25-fda2e625287d"
   },
   "outputs": [
    {
     "name": "stdout",
     "output_type": "stream",
     "text": [
      "Automatically created module for IPython interactive environment\n",
      "For n_clusters = 2 The average silhouette_score is : 0.4552974848861243\n",
      "For n_clusters = 3 The average silhouette_score is : 0.4360205646798433\n",
      "For n_clusters = 4 The average silhouette_score is : 0.4462519515674172\n",
      "For n_clusters = 5 The average silhouette_score is : 0.39575367914797144\n",
      "For n_clusters = 6 The average silhouette_score is : 0.38810914832006244\n",
      "For n_clusters = 7 The average silhouette_score is : 0.33375342067170327\n"
     ]
    },
    {
     "data": {
      "image/png": "[encoded data removed]",
      "text/plain": [
       "<Figure size 1296x504 with 1 Axes>"
      ]
     },
     "metadata": {
      "tags": []
     },
     "output_type": "display_data"
    },
    {
     "data": {
      "image/png": "[encoded data removed]",
      "text/plain": [
       "<Figure size 1296x504 with 1 Axes>"
      ]
     },
     "metadata": {
      "tags": []
     },
     "output_type": "display_data"
    },
    {
     "data": {
      "image/png": "[encoded data removed]",
      "text/plain": [
       "<Figure size 1296x504 with 1 Axes>"
      ]
     },
     "metadata": {
      "tags": []
     },
     "output_type": "display_data"
    },
    {
     "data": {
      "image/png": "[encoded data removed]",
      "text/plain": [
       "<Figure size 1296x504 with 1 Axes>"
      ]
     },
     "metadata": {
      "tags": []
     },
     "output_type": "display_data"
    },
    {
     "data": {
      "image/png": "[encoded data removed]",
      "text/plain": [
       "<Figure size 1296x504 with 1 Axes>"
      ]
     },
     "metadata": {
      "tags": []
     },
     "output_type": "display_data"
    },
    {
     "data": {
      "image/png": "[encoded data removed]",
      "text/plain": [
       "<Figure size 1296x504 with 1 Axes>"
      ]
     },
     "metadata": {
      "tags": []
     },
     "output_type": "display_data"
    }
   ],
   "source": [
    "from __future__ import print_function\n",
    "\n",
    "from sklearn.datasets import make_blobs\n",
    "from sklearn.cluster import KMeans\n",
    "from sklearn.metrics import silhouette_samples, silhouette_score\n",
    "\n",
    "import matplotlib.pyplot as plt\n",
    "import matplotlib.cm as cm\n",
    "import numpy as np\n",
    "\n",
    "print(__doc__)\n",
    "\n",
    "# Generating the sample data from make_blobs\n",
    "# This particular setting has one distinct cluster and 3 clusters placed close\n",
    "# together.\n",
    "\n",
    "\n",
    "range_n_clusters = [2, 3, 4, 5, 6,7]\n",
    "\n",
    "for n_clusters in range_n_clusters:\n",
    "    # Create a subplot with 1 row and 2 columns\n",
    "    fig, ax1 = plt.subplots(1, 1)\n",
    "    fig.set_size_inches(18, 7)\n",
    "\n",
    "    # The 1st subplot is the silhouette plot\n",
    "    # The silhouette coefficient can range from -1, 1 but in this example all\n",
    "    # lie within [-0.1, 1]\n",
    "    ax1.set_xlim([-0.1, 1])\n",
    "    # The (n_clusters+1)*10 is for inserting blank space between silhouette\n",
    "    # plots of individual clusters, to demarcate them clearly.\n",
    "    ax1.set_ylim([0, len(df_clean) + (n_clusters + 1) * 10])\n",
    "\n",
    "    # Initialize the clusterer with n_clusters value and a random generator\n",
    "    # seed of 10 for reproducibility.\n",
    "    clusterer = KMeans(n_clusters=n_clusters, random_state=10)\n",
    "    cluster_labels = clusterer.fit_predict(df_clean)\n",
    "\n",
    "    # The silhouette_score gives the average value for all the samples.\n",
    "    # This gives a perspective into the density and separation of the formed\n",
    "    # clusters\n",
    "    silhouette_avg = silhouette_score(df_clean, cluster_labels)\n",
    "    print(\"For n_clusters =\", n_clusters,\n",
    "          \"The average silhouette_score is :\", silhouette_avg)\n",
    "\n",
    "    # Compute the silhouette scores for each sample\n",
    "    sample_silhouette_values = silhouette_samples(df_clean, cluster_labels)\n",
    "\n",
    "    y_lower = 10\n",
    "    for i in range(n_clusters):\n",
    "        # Aggregate the silhouette scores for samples belonging to\n",
    "        # cluster i, and sort them\n",
    "        ith_cluster_silhouette_values = \\\n",
    "            sample_silhouette_values[cluster_labels == i]\n",
    "\n",
    "        ith_cluster_silhouette_values.sort()\n",
    "\n",
    "        size_cluster_i = ith_cluster_silhouette_values.shape[0]\n",
    "        y_upper = y_lower + size_cluster_i\n",
    "\n",
    "        color = cm.nipy_spectral(float(i) / n_clusters)\n",
    "        ax1.fill_betweenx(np.arange(y_lower, y_upper),\n",
    "                          0, ith_cluster_silhouette_values,\n",
    "                          facecolor=color, edgecolor=color, alpha=0.7)\n",
    "\n",
    "        # Label the silhouette plots with their cluster numbers at the middle\n",
    "        ax1.text(-0.05, y_lower + 0.5 * size_cluster_i, str(i))\n",
    "\n",
    "        # Compute the new y_lower for next plot\n",
    "        y_lower = y_upper + 10  # 10 for the 0 samples\n",
    "\n",
    "    ax1.set_title(\"The silhouette plot for the various clusters.\")\n",
    "    ax1.set_xlabel(\"The silhouette coefficient values\")\n",
    "    ax1.set_ylabel(\"Cluster label\")\n",
    "\n",
    "    # The vertical line for average silhouette score of all the values\n",
    "    ax1.axvline(x=silhouette_avg, color=\"red\", linestyle=\"--\")\n",
    "\n",
    "    ax1.set_yticks([])  # Clear the yaxis labels / ticks\n",
    "    ax1.set_xticks([-0.1, 0, 0.2, 0.4, 0.6, 0.8, 1])\n",
    "\n",
    "\n",
    "plt.show()"
   ]
  },
  {
   "cell_type": "markdown",
   "metadata": {
    "colab_type": "text",
    "id": "qmMFgO-fYlF_"
   },
   "source": [
    "**We see that clusters 2 and 4 have the best Silhouette scores of around 0.45, let us chose cluster size as 4 because we will get more segments and we can target them better. In the real world Scenario, the number of clusters depends totally on the domain we are dealing with and the Business Objective of the company**"
   ]
  },
  {
   "cell_type": "code",
   "execution_count": 0,
   "metadata": {
    "colab": {},
    "colab_type": "code",
    "id": "buHSaYvFNEvK"
   },
   "outputs": [],
   "source": [
    "# Choose Cluster Size of 3\n",
    "cluster = KMeans(n_clusters = 4) \n",
    "\n",
    "df_clean['cluster'] = cluster.fit_predict(df_pca)"
   ]
  },
  {
   "cell_type": "code",
   "execution_count": 51,
   "metadata": {
    "colab": {
     "base_uri": "https://localhost:8080/",
     "height": 214
    },
    "colab_type": "code",
    "id": "is-JwYZ4OIrG",
    "outputId": "5a98bff3-5c54-4a8c-b785-24f951ded0e1"
   },
   "outputs": [
    {
     "data": {
      "text/html": [
       "<div>\n",
       "<style scoped>\n",
       "    .dataframe tbody tr th:only-of-type {\n",
       "        vertical-align: middle;\n",
       "    }\n",
       "\n",
       "    .dataframe tbody tr th {\n",
       "        vertical-align: top;\n",
       "    }\n",
       "\n",
       "    .dataframe thead th {\n",
       "        text-align: right;\n",
       "    }\n",
       "</style>\n",
       "<table border=\"1\" class=\"dataframe\">\n",
       "  <thead>\n",
       "    <tr style=\"text-align: right;\">\n",
       "      <th></th>\n",
       "      <th>BALANCE</th>\n",
       "      <th>BALANCE_FREQUENCY</th>\n",
       "      <th>PURCHASES</th>\n",
       "      <th>ONEOFF_PURCHASES</th>\n",
       "      <th>INSTALLMENTS_PURCHASES</th>\n",
       "      <th>CASH_ADVANCE</th>\n",
       "      <th>PURCHASES_FREQUENCY</th>\n",
       "      <th>ONEOFF_PURCHASES_FREQUENCY</th>\n",
       "      <th>PURCHASES_INSTALLMENTS_FREQUENCY</th>\n",
       "      <th>CASH_ADVANCE_FREQUENCY</th>\n",
       "      <th>CASH_ADVANCE_TRX</th>\n",
       "      <th>PURCHASES_TRX</th>\n",
       "      <th>CREDIT_LIMIT</th>\n",
       "      <th>PAYMENTS</th>\n",
       "      <th>MINIMUM_PAYMENTS</th>\n",
       "      <th>PRC_FULL_PAYMENT</th>\n",
       "      <th>TENURE</th>\n",
       "      <th>cluster</th>\n",
       "    </tr>\n",
       "  </thead>\n",
       "  <tbody>\n",
       "    <tr>\n",
       "      <th>0</th>\n",
       "      <td>40.900749</td>\n",
       "      <td>0.818182</td>\n",
       "      <td>95.40</td>\n",
       "      <td>0.00</td>\n",
       "      <td>95.4</td>\n",
       "      <td>0.000000</td>\n",
       "      <td>0.166667</td>\n",
       "      <td>0.000000</td>\n",
       "      <td>0.083333</td>\n",
       "      <td>0.000000</td>\n",
       "      <td>0</td>\n",
       "      <td>2</td>\n",
       "      <td>1000.0</td>\n",
       "      <td>201.802084</td>\n",
       "      <td>139.509787</td>\n",
       "      <td>0.000000</td>\n",
       "      <td>12</td>\n",
       "      <td>0</td>\n",
       "    </tr>\n",
       "    <tr>\n",
       "      <th>1</th>\n",
       "      <td>3202.467416</td>\n",
       "      <td>0.909091</td>\n",
       "      <td>0.00</td>\n",
       "      <td>0.00</td>\n",
       "      <td>0.0</td>\n",
       "      <td>6442.945483</td>\n",
       "      <td>0.000000</td>\n",
       "      <td>0.000000</td>\n",
       "      <td>0.000000</td>\n",
       "      <td>0.250000</td>\n",
       "      <td>4</td>\n",
       "      <td>0</td>\n",
       "      <td>7000.0</td>\n",
       "      <td>4103.032597</td>\n",
       "      <td>1072.340217</td>\n",
       "      <td>0.222222</td>\n",
       "      <td>12</td>\n",
       "      <td>3</td>\n",
       "    </tr>\n",
       "    <tr>\n",
       "      <th>2</th>\n",
       "      <td>2495.148862</td>\n",
       "      <td>1.000000</td>\n",
       "      <td>773.17</td>\n",
       "      <td>773.17</td>\n",
       "      <td>0.0</td>\n",
       "      <td>0.000000</td>\n",
       "      <td>1.000000</td>\n",
       "      <td>1.000000</td>\n",
       "      <td>0.000000</td>\n",
       "      <td>0.000000</td>\n",
       "      <td>0</td>\n",
       "      <td>12</td>\n",
       "      <td>7500.0</td>\n",
       "      <td>622.066742</td>\n",
       "      <td>627.284787</td>\n",
       "      <td>0.000000</td>\n",
       "      <td>12</td>\n",
       "      <td>1</td>\n",
       "    </tr>\n",
       "    <tr>\n",
       "      <th>3</th>\n",
       "      <td>1666.670542</td>\n",
       "      <td>0.636364</td>\n",
       "      <td>1499.00</td>\n",
       "      <td>1499.00</td>\n",
       "      <td>0.0</td>\n",
       "      <td>205.788017</td>\n",
       "      <td>0.083333</td>\n",
       "      <td>0.083333</td>\n",
       "      <td>0.000000</td>\n",
       "      <td>0.083333</td>\n",
       "      <td>1</td>\n",
       "      <td>1</td>\n",
       "      <td>7500.0</td>\n",
       "      <td>0.000000</td>\n",
       "      <td>864.206542</td>\n",
       "      <td>0.000000</td>\n",
       "      <td>12</td>\n",
       "      <td>0</td>\n",
       "    </tr>\n",
       "    <tr>\n",
       "      <th>4</th>\n",
       "      <td>817.714335</td>\n",
       "      <td>1.000000</td>\n",
       "      <td>16.00</td>\n",
       "      <td>16.00</td>\n",
       "      <td>0.0</td>\n",
       "      <td>0.000000</td>\n",
       "      <td>0.083333</td>\n",
       "      <td>0.083333</td>\n",
       "      <td>0.000000</td>\n",
       "      <td>0.000000</td>\n",
       "      <td>0</td>\n",
       "      <td>1</td>\n",
       "      <td>1200.0</td>\n",
       "      <td>678.334763</td>\n",
       "      <td>244.791237</td>\n",
       "      <td>0.000000</td>\n",
       "      <td>12</td>\n",
       "      <td>0</td>\n",
       "    </tr>\n",
       "  </tbody>\n",
       "</table>\n",
       "</div>"
      ],
      "text/plain": [
       "       BALANCE  BALANCE_FREQUENCY  PURCHASES  ONEOFF_PURCHASES  \\\n",
       "0    40.900749           0.818182      95.40              0.00   \n",
       "1  3202.467416           0.909091       0.00              0.00   \n",
       "2  2495.148862           1.000000     773.17            773.17   \n",
       "3  1666.670542           0.636364    1499.00           1499.00   \n",
       "4   817.714335           1.000000      16.00             16.00   \n",
       "\n",
       "   INSTALLMENTS_PURCHASES  CASH_ADVANCE  PURCHASES_FREQUENCY  \\\n",
       "0                    95.4      0.000000             0.166667   \n",
       "1                     0.0   6442.945483             0.000000   \n",
       "2                     0.0      0.000000             1.000000   \n",
       "3                     0.0    205.788017             0.083333   \n",
       "4                     0.0      0.000000             0.083333   \n",
       "\n",
       "   ONEOFF_PURCHASES_FREQUENCY  PURCHASES_INSTALLMENTS_FREQUENCY  \\\n",
       "0                    0.000000                          0.083333   \n",
       "1                    0.000000                          0.000000   \n",
       "2                    1.000000                          0.000000   \n",
       "3                    0.083333                          0.000000   \n",
       "4                    0.083333                          0.000000   \n",
       "\n",
       "   CASH_ADVANCE_FREQUENCY  CASH_ADVANCE_TRX  PURCHASES_TRX  CREDIT_LIMIT  \\\n",
       "0                0.000000                 0              2        1000.0   \n",
       "1                0.250000                 4              0        7000.0   \n",
       "2                0.000000                 0             12        7500.0   \n",
       "3                0.083333                 1              1        7500.0   \n",
       "4                0.000000                 0              1        1200.0   \n",
       "\n",
       "      PAYMENTS  MINIMUM_PAYMENTS  PRC_FULL_PAYMENT  TENURE  cluster  \n",
       "0   201.802084        139.509787          0.000000      12        0  \n",
       "1  4103.032597       1072.340217          0.222222      12        3  \n",
       "2   622.066742        627.284787          0.000000      12        1  \n",
       "3     0.000000        864.206542          0.000000      12        0  \n",
       "4   678.334763        244.791237          0.000000      12        0  "
      ]
     },
     "execution_count": 51,
     "metadata": {
      "tags": []
     },
     "output_type": "execute_result"
    }
   ],
   "source": [
    "#Let us see the samples\n",
    "df_clean.head()"
   ]
  },
  {
   "cell_type": "code",
   "execution_count": 52,
   "metadata": {
    "colab": {
     "base_uri": "https://localhost:8080/",
     "height": 106
    },
    "colab_type": "code",
    "id": "pDBkFliBOQ2z",
    "outputId": "14a8bbaa-2b63-4766-c833-bbb9bc769de7"
   },
   "outputs": [
    {
     "data": {
      "text/plain": [
       "0    3406\n",
       "1    1210\n",
       "2    2126\n",
       "3    1313\n",
       "Name: cluster, dtype: int64"
      ]
     },
     "execution_count": 52,
     "metadata": {
      "tags": []
     },
     "output_type": "execute_result"
    }
   ],
   "source": [
    "#Let us see how many entries are there in each cluster\n",
    "df_clean['cluster'].value_counts().sort_index()"
   ]
  },
  {
   "cell_type": "markdown",
   "metadata": {
    "colab_type": "text",
    "id": "b-gMNqeSOjSz"
   },
   "source": [
    "**we see that the cluster 1 has the highest records with 3406 and cluster 1 with 1210 entries**"
   ]
  },
  {
   "cell_type": "markdown",
   "metadata": {
    "colab_type": "text",
    "id": "WYoXelSGaIgl"
   },
   "source": [
    "## Cluster Centroids"
   ]
  },
  {
   "cell_type": "code",
   "execution_count": 54,
   "metadata": {
    "colab": {
     "base_uri": "https://localhost:8080/",
     "height": 164
    },
    "colab_type": "code",
    "id": "QnmypXgzaLcu",
    "outputId": "101ae1e4-20d3-4fd9-899c-e618b5dc1bd8"
   },
   "outputs": [
    {
     "data": {
      "text/html": [
       "<div>\n",
       "<style scoped>\n",
       "    .dataframe tbody tr th:only-of-type {\n",
       "        vertical-align: middle;\n",
       "    }\n",
       "\n",
       "    .dataframe tbody tr th {\n",
       "        vertical-align: top;\n",
       "    }\n",
       "\n",
       "    .dataframe thead th {\n",
       "        text-align: right;\n",
       "    }\n",
       "</style>\n",
       "<table border=\"1\" class=\"dataframe\">\n",
       "  <thead>\n",
       "    <tr style=\"text-align: right;\">\n",
       "      <th></th>\n",
       "      <th>PC1</th>\n",
       "      <th>PC2</th>\n",
       "      <th>PC3</th>\n",
       "      <th>PC4</th>\n",
       "      <th>PC5</th>\n",
       "      <th>PC6</th>\n",
       "      <th>PC7</th>\n",
       "      <th>PC8</th>\n",
       "    </tr>\n",
       "  </thead>\n",
       "  <tbody>\n",
       "    <tr>\n",
       "      <th>0</th>\n",
       "      <td>1.020891</td>\n",
       "      <td>-0.946809</td>\n",
       "      <td>0.570970</td>\n",
       "      <td>0.212233</td>\n",
       "      <td>0.076916</td>\n",
       "      <td>-0.043158</td>\n",
       "      <td>0.135124</td>\n",
       "      <td>-0.092590</td>\n",
       "    </tr>\n",
       "    <tr>\n",
       "      <th>1</th>\n",
       "      <td>-3.144079</td>\n",
       "      <td>1.590373</td>\n",
       "      <td>1.191085</td>\n",
       "      <td>0.112592</td>\n",
       "      <td>-0.423983</td>\n",
       "      <td>0.048169</td>\n",
       "      <td>-0.039383</td>\n",
       "      <td>0.120625</td>\n",
       "    </tr>\n",
       "    <tr>\n",
       "      <th>2</th>\n",
       "      <td>-1.492746</td>\n",
       "      <td>-0.769038</td>\n",
       "      <td>-1.303861</td>\n",
       "      <td>-0.138100</td>\n",
       "      <td>0.106170</td>\n",
       "      <td>0.011953</td>\n",
       "      <td>-0.143068</td>\n",
       "      <td>0.002838</td>\n",
       "    </tr>\n",
       "    <tr>\n",
       "      <th>3</th>\n",
       "      <td>2.668142</td>\n",
       "      <td>2.235551</td>\n",
       "      <td>-0.466150</td>\n",
       "      <td>-0.430428</td>\n",
       "      <td>0.019266</td>\n",
       "      <td>0.048168</td>\n",
       "      <td>-0.082359</td>\n",
       "      <td>0.124352</td>\n",
       "    </tr>\n",
       "  </tbody>\n",
       "</table>\n",
       "</div>"
      ],
      "text/plain": [
       "        PC1       PC2       PC3       PC4       PC5       PC6       PC7  \\\n",
       "0  1.020891 -0.946809  0.570970  0.212233  0.076916 -0.043158  0.135124   \n",
       "1 -3.144079  1.590373  1.191085  0.112592 -0.423983  0.048169 -0.039383   \n",
       "2 -1.492746 -0.769038 -1.303861 -0.138100  0.106170  0.011953 -0.143068   \n",
       "3  2.668142  2.235551 -0.466150 -0.430428  0.019266  0.048168 -0.082359   \n",
       "\n",
       "        PC8  \n",
       "0 -0.092590  \n",
       "1  0.120625  \n",
       "2  0.002838  \n",
       "3  0.124352  "
      ]
     },
     "execution_count": 54,
     "metadata": {
      "tags": []
     },
     "output_type": "execute_result"
    }
   ],
   "source": [
    "# centers = np.array(kmeans_model.cluster_centers_)\n",
    "pd.DataFrame(data = cluster.cluster_centers_ , columns= ['PC1', 'PC2','PC3', 'PC4','PC5', 'PC6','PC7','PC8'] )"
   ]
  },
  {
   "cell_type": "code",
   "execution_count": 69,
   "metadata": {
    "colab": {
     "base_uri": "https://localhost:8080/",
     "height": 355
    },
    "colab_type": "code",
    "id": "GLMJ4OJJdpYF",
    "outputId": "6e09767b-21a2-4b11-ecd0-1e045cab1009"
   },
   "outputs": [
    {
     "data": {
      "text/plain": [
       "BALANCE                              864.441743\n",
       "BALANCE_FREQUENCY                      0.780236\n",
       "PURCHASES                            230.595211\n",
       "ONEOFF_PURCHASES                     180.418097\n",
       "INSTALLMENTS_PURCHASES                50.321970\n",
       "CASH_ADVANCE                         417.336844\n",
       "PURCHASES_FREQUENCY                    0.182059\n",
       "ONEOFF_PURCHASES_FREQUENCY             0.096404\n",
       "PURCHASES_INSTALLMENTS_FREQUENCY       0.083846\n",
       "CASH_ADVANCE_FREQUENCY                 0.090498\n",
       "CASH_ADVANCE_TRX                       1.558133\n",
       "PURCHASES_TRX                          2.982090\n",
       "CREDIT_LIMIT                        3092.762121\n",
       "PAYMENTS                             767.839433\n",
       "MINIMUM_PAYMENTS                     519.322287\n",
       "PRC_FULL_PAYMENT                       0.072217\n",
       "TENURE                                11.476218\n",
       "cluster                                0.000000\n",
       "dtype: float64"
      ]
     },
     "execution_count": 69,
     "metadata": {
      "tags": []
     },
     "output_type": "execute_result"
    }
   ],
   "source": [
    "df_clean[df_clean['cluster']==0].mean()"
   ]
  },
  {
   "cell_type": "markdown",
   "metadata": {
    "colab_type": "text",
    "id": "jFX3GOUMjQlp"
   },
   "source": [
    "## Cluster 0 Characteristics\n",
    "**The cluster 0 people  have the purchase frequency of 18%, their balance is also quite low which is 864 dollars. They spend very less on installment purchases of about 50 dollars. Their purchase is also quite low of about 230 dollars. They dont borrow much cash from the card either, with just 9% frequency. They are probably fairly new customers who have a low balance and cash advance. The credit card provider might encourage them to increase their activity by offering cash backs, promotions, free Uber rides etc**"
   ]
  },
  {
   "cell_type": "code",
   "execution_count": 70,
   "metadata": {
    "colab": {
     "base_uri": "https://localhost:8080/",
     "height": 355
    },
    "colab_type": "code",
    "id": "wrNqh-oqgC8z",
    "outputId": "c0b20909-cc9b-4ae4-e951-ffbe1756418b"
   },
   "outputs": [
    {
     "data": {
      "text/plain": [
       "BALANCE                             1307.714292\n",
       "BALANCE_FREQUENCY                      0.969304\n",
       "PURCHASES                           2046.647380\n",
       "ONEOFF_PURCHASES                    1449.238702\n",
       "INSTALLMENTS_PURCHASES               597.449174\n",
       "CASH_ADVANCE                         209.247750\n",
       "PURCHASES_FREQUENCY                    0.865467\n",
       "ONEOFF_PURCHASES_FREQUENCY             0.659424\n",
       "PURCHASES_INSTALLMENTS_FREQUENCY       0.510869\n",
       "CASH_ADVANCE_FREQUENCY                 0.042692\n",
       "CASH_ADVANCE_TRX                       0.776860\n",
       "PURCHASES_TRX                         30.733884\n",
       "CREDIT_LIMIT                        5805.751315\n",
       "PAYMENTS                            1988.937350\n",
       "MINIMUM_PAYMENTS                     523.839005\n",
       "PRC_FULL_PAYMENT                       0.231732\n",
       "TENURE                                11.904959\n",
       "cluster                                1.000000\n",
       "dtype: float64"
      ]
     },
     "execution_count": 70,
     "metadata": {
      "tags": []
     },
     "output_type": "execute_result"
    }
   ],
   "source": [
    "df_clean[df_clean['cluster']==1].mean()"
   ]
  },
  {
   "cell_type": "markdown",
   "metadata": {
    "colab_type": "text",
    "id": "07_zoBABk-w7"
   },
   "source": [
    "## Cluster 1 Characteristics\n",
    "**The cluster 1 people have a very good credit limit on an average of about 5800 dollars. They have a high purchase frequency of 86.5%. They have fairly high full payment percentage of 23%. They have less cash advance frequency of just 4% and the average cash advance amount is 200 dollars. The average payment made is around 1988dollars. These indicates this cluster belongs to people who are frequent credit card users with high transactions, the credit card company can target them to increase their spending by giving more attractive offers and by increasing their credit limit to encourage them to spend more.**"
   ]
  },
  {
   "cell_type": "code",
   "execution_count": 71,
   "metadata": {
    "colab": {
     "base_uri": "https://localhost:8080/",
     "height": 355
    },
    "colab_type": "code",
    "id": "fzKVzzAxgDtL",
    "outputId": "df76235e-48f8-41d8-d513-c3ce51c5d287"
   },
   "outputs": [
    {
     "data": {
      "text/plain": [
       "BALANCE                              592.984174\n",
       "BALANCE_FREQUENCY                      0.900413\n",
       "PURCHASES                            742.647286\n",
       "ONEOFF_PURCHASES                      95.858537\n",
       "INSTALLMENTS_PURCHASES               647.456943\n",
       "CASH_ADVANCE                         157.697299\n",
       "PURCHASES_FREQUENCY                    0.866308\n",
       "ONEOFF_PURCHASES_FREQUENCY             0.064034\n",
       "PURCHASES_INSTALLMENTS_FREQUENCY       0.812392\n",
       "CASH_ADVANCE_FREQUENCY                 0.033621\n",
       "CASH_ADVANCE_TRX                       0.622766\n",
       "PURCHASES_TRX                         16.529163\n",
       "CREDIT_LIMIT                        3209.850029\n",
       "PAYMENTS                             889.552907\n",
       "MINIMUM_PAYMENTS                     641.460119\n",
       "PRC_FULL_PAYMENT                       0.288365\n",
       "TENURE                                11.445908\n",
       "cluster                                2.000000\n",
       "dtype: float64"
      ]
     },
     "execution_count": 71,
     "metadata": {
      "tags": []
     },
     "output_type": "execute_result"
    }
   ],
   "source": [
    "df_clean[df_clean['cluster']==2].mean()"
   ]
  },
  {
   "cell_type": "markdown",
   "metadata": {
    "colab_type": "text",
    "id": "O2qQwLRAhFF7"
   },
   "source": [
    "## Cluster 2 Characteristics\n",
    "**The cluster 2 people have very less cash advance among the clusters that is on an average of 157dollars. Their purchase frequency is high with about 86.6%. They take the cash advance very less frequently of about just 3.3%, they have very good full payment percentage rate of about 28.8%. These people are called transactors because they pay very less in interest.**"
   ]
  },
  {
   "cell_type": "code",
   "execution_count": 72,
   "metadata": {
    "colab": {
     "base_uri": "https://localhost:8080/",
     "height": 355
    },
    "colab_type": "code",
    "id": "Ofnk1HrEgEPy",
    "outputId": "74d58241-dfb1-4195-db44-23b1de66fc34"
   },
   "outputs": [
    {
     "data": {
      "text/plain": [
       "BALANCE                             3380.880304\n",
       "BALANCE_FREQUENCY                      0.952370\n",
       "PURCHASES                            184.058378\n",
       "ONEOFF_PURCHASES                     122.608751\n",
       "INSTALLMENTS_PURCHASES                61.492826\n",
       "CASH_ADVANCE                        2976.624321\n",
       "PURCHASES_FREQUENCY                    0.154328\n",
       "ONEOFF_PURCHASES_FREQUENCY             0.067987\n",
       "PURCHASES_INSTALLMENTS_FREQUENCY       0.089614\n",
       "CASH_ADVANCE_FREQUENCY                 0.395214\n",
       "CASH_ADVANCE_TRX                       9.799695\n",
       "PURCHASES_TRX                          2.954303\n",
       "CREDIT_LIMIT                        5900.320801\n",
       "PAYMENTS                            2330.921739\n",
       "MINIMUM_PAYMENTS                    1559.221438\n",
       "PRC_FULL_PAYMENT                       0.031114\n",
       "TENURE                                11.511043\n",
       "cluster                                3.000000\n",
       "dtype: float64"
      ]
     },
     "execution_count": 72,
     "metadata": {
      "tags": []
     },
     "output_type": "execute_result"
    }
   ],
   "source": [
    "df_clean[df_clean['cluster']==3].mean()"
   ]
  },
  {
   "cell_type": "markdown",
   "metadata": {
    "colab_type": "text",
    "id": "qlUDH2lSdn01"
   },
   "source": [
    "## Cluster 3 characteristics\n",
    "**These are the customers with very high credit limit of about 5900 dollars on an average. They have high credit advance frequency of 39 percent and the lowest full payment of about 3.1%. They also have the least purchase frequency among the clusters with 15.4 percent. Also they have the highest balance of about 3380 dollars. These are the people who are called as revolvers who might be using their credit card’s as a loan.**"
   ]
  },
  {
   "cell_type": "markdown",
   "metadata": {
    "colab_type": "text",
    "id": "38uEb-aN-ofV"
   },
   "source": [
    "**We were able to successfully segment the customers into clusters and this gives the credit card company a better way to target the customers than targeting them the same way. In this manner, the credit card company can make more business by getting their customers to use more.**\n",
    "\n",
    "**Thank you for the read.**"
   ]
  }
 ],
 "metadata": {
  "accelerator": "GPU",
  "colab": {
   "collapsed_sections": [],
   "name": "Customer_Seg.ipynb",
   "provenance": [],
   "version": "0.3.2"
  },
  "kernelspec": {
   "display_name": "Python 3",
   "language": "python",
   "name": "python3"
  },
  "language_info": {
   "codemirror_mode": {
    "name": "ipython",
    "version": 3
   },
   "file_extension": ".py",
   "mimetype": "text/x-python",
   "name": "python",
   "nbconvert_exporter": "python",
   "pygments_lexer": "ipython3",
   "version": "3.6.5"
  }
 },
 "nbformat": 4,
 "nbformat_minor": 1
}
